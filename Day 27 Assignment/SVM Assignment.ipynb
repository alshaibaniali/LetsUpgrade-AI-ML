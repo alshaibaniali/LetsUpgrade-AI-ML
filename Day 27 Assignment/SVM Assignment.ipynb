{
 "cells": [
  {
   "cell_type": "code",
   "execution_count": 19,
   "metadata": {},
   "outputs": [],
   "source": [
    "import pandas as pd"
   ]
  },
  {
   "cell_type": "code",
   "execution_count": 20,
   "metadata": {},
   "outputs": [],
   "source": [
    "df = pd.read_csv('train.csv')"
   ]
  },
  {
   "cell_type": "code",
   "execution_count": 21,
   "metadata": {},
   "outputs": [],
   "source": [
    "df = df.drop(['Name','PassengerId','Ticket','Cabin','Age','Fare'],axis=1)"
   ]
  },
  {
   "cell_type": "code",
   "execution_count": 22,
   "metadata": {},
   "outputs": [
    {
     "data": {
      "text/html": [
       "<div>\n",
       "<style scoped>\n",
       "    .dataframe tbody tr th:only-of-type {\n",
       "        vertical-align: middle;\n",
       "    }\n",
       "\n",
       "    .dataframe tbody tr th {\n",
       "        vertical-align: top;\n",
       "    }\n",
       "\n",
       "    .dataframe thead th {\n",
       "        text-align: right;\n",
       "    }\n",
       "</style>\n",
       "<table border=\"1\" class=\"dataframe\">\n",
       "  <thead>\n",
       "    <tr style=\"text-align: right;\">\n",
       "      <th></th>\n",
       "      <th>Survived</th>\n",
       "      <th>Pclass</th>\n",
       "      <th>Sex</th>\n",
       "      <th>SibSp</th>\n",
       "      <th>Parch</th>\n",
       "      <th>Embarked</th>\n",
       "    </tr>\n",
       "  </thead>\n",
       "  <tbody>\n",
       "    <tr>\n",
       "      <th>0</th>\n",
       "      <td>0</td>\n",
       "      <td>3</td>\n",
       "      <td>male</td>\n",
       "      <td>1</td>\n",
       "      <td>0</td>\n",
       "      <td>S</td>\n",
       "    </tr>\n",
       "    <tr>\n",
       "      <th>1</th>\n",
       "      <td>1</td>\n",
       "      <td>1</td>\n",
       "      <td>female</td>\n",
       "      <td>1</td>\n",
       "      <td>0</td>\n",
       "      <td>C</td>\n",
       "    </tr>\n",
       "    <tr>\n",
       "      <th>2</th>\n",
       "      <td>1</td>\n",
       "      <td>3</td>\n",
       "      <td>female</td>\n",
       "      <td>0</td>\n",
       "      <td>0</td>\n",
       "      <td>S</td>\n",
       "    </tr>\n",
       "    <tr>\n",
       "      <th>3</th>\n",
       "      <td>1</td>\n",
       "      <td>1</td>\n",
       "      <td>female</td>\n",
       "      <td>1</td>\n",
       "      <td>0</td>\n",
       "      <td>S</td>\n",
       "    </tr>\n",
       "    <tr>\n",
       "      <th>4</th>\n",
       "      <td>0</td>\n",
       "      <td>3</td>\n",
       "      <td>male</td>\n",
       "      <td>0</td>\n",
       "      <td>0</td>\n",
       "      <td>S</td>\n",
       "    </tr>\n",
       "  </tbody>\n",
       "</table>\n",
       "</div>"
      ],
      "text/plain": [
       "   Survived  Pclass     Sex  SibSp  Parch Embarked\n",
       "0         0       3    male      1      0        S\n",
       "1         1       1  female      1      0        C\n",
       "2         1       3  female      0      0        S\n",
       "3         1       1  female      1      0        S\n",
       "4         0       3    male      0      0        S"
      ]
     },
     "execution_count": 22,
     "metadata": {},
     "output_type": "execute_result"
    }
   ],
   "source": [
    "df.head()"
   ]
  },
  {
   "cell_type": "code",
   "execution_count": 23,
   "metadata": {},
   "outputs": [],
   "source": [
    "from sklearn.preprocessing import LabelEncoder\n",
    "en = LabelEncoder()\n",
    "df['Sex'] = en.fit_transform(df['Sex'])\n",
    "df['Embarked'] = en.fit_transform(df['Embarked'])"
   ]
  },
  {
   "cell_type": "code",
   "execution_count": 24,
   "metadata": {},
   "outputs": [],
   "source": [
    "from sklearn.model_selection import train_test_split\n",
    "from sklearn.metrics import accuracy_score,confusion_matrix\n",
    "from sklearn.svm import SVC"
   ]
  },
  {
   "cell_type": "code",
   "execution_count": 33,
   "metadata": {},
   "outputs": [],
   "source": [
    "def sv(col):\n",
    "    y = df[col]\n",
    "    X = df.drop([col],axis = 1)\n",
    "    X_train,X_test,y_train,y_test = train_test_split(X,y,test_size = 0.25,random_state = 0)\n",
    "    svclf = SVC(gamma=0.1, C=100)\n",
    "    ypred = svclf.fit(X_train,y_train).predict(X_test)\n",
    "    ac = accuracy_score(y_test,ypred)\n",
    "    cm = confusion_matrix(y_test,ypred)\n",
    "    print(\"Accuracy Score : \",ac)\n",
    "    print('                    ')\n",
    "    print(\"Confusion Matrix :  \\n\",cm)\n",
    "    print('--------------------------')"
   ]
  },
  {
   "cell_type": "code",
   "execution_count": 34,
   "metadata": {},
   "outputs": [],
   "source": [
    "col = ['Survived','Sex','SibSp','Parch','Embarked']"
   ]
  },
  {
   "cell_type": "code",
   "execution_count": 36,
   "metadata": {},
   "outputs": [
    {
     "name": "stdout",
     "output_type": "stream",
     "text": [
      "                \n",
      "Accuracy Score and Confusion Matrix of -  Survived\n",
      "Accuracy Score :  0.7488789237668162\n",
      "                    \n",
      "Confusion Matrix :  \n",
      " [[115  17]\n",
      " [ 39  52]]\n",
      "--------------------------\n",
      "                \n",
      "Accuracy Score and Confusion Matrix of -  Sex\n",
      "Accuracy Score :  0.7443946188340808\n",
      "                    \n",
      "Confusion Matrix :  \n",
      " [[ 49  33]\n",
      " [ 24 117]]\n",
      "--------------------------\n",
      "                \n",
      "Accuracy Score and Confusion Matrix of -  SibSp\n",
      "Accuracy Score :  0.6905829596412556\n",
      "                    \n",
      "Confusion Matrix :  \n",
      " [[141  10   1   1   1   0   0]\n",
      " [ 39  10   0   0   0   2   0]\n",
      " [  5   1   1   0   0   0   0]\n",
      " [  2   1   0   1   1   1   0]\n",
      " [  0   1   0   0   0   1   0]\n",
      " [  0   0   0   0   0   1   0]\n",
      " [  0   0   0   0   0   2   0]]\n",
      "--------------------------\n",
      "                \n",
      "Accuracy Score and Confusion Matrix of -  Parch\n",
      "Accuracy Score :  0.7757847533632287\n",
      "                    \n",
      "Confusion Matrix :  \n",
      " [[161   5   0   0   0]\n",
      " [ 23   8   0   0   0]\n",
      " [ 16   4   4   0   0]\n",
      " [  1   0   0   0   0]\n",
      " [  1   0   0   0   0]]\n",
      "--------------------------\n",
      "                \n",
      "Accuracy Score and Confusion Matrix of -  Embarked\n",
      "Accuracy Score :  0.726457399103139\n",
      "                    \n",
      "Confusion Matrix :  \n",
      " [[ 12   3  24]\n",
      " [  0   5  16]\n",
      " [ 10   8 145]]\n",
      "--------------------------\n"
     ]
    }
   ],
   "source": [
    "for cols in col:\n",
    "    print('                ')\n",
    "    print('Accuracy Score and Confusion Matrix of - ',cols)\n",
    "    \n",
    "    sv(cols)"
   ]
  }
 ],
 "metadata": {
  "kernelspec": {
   "display_name": "Python 3",
   "language": "python",
   "name": "python3"
  },
  "language_info": {
   "codemirror_mode": {
    "name": "ipython",
    "version": 3
   },
   "file_extension": ".py",
   "mimetype": "text/x-python",
   "name": "python",
   "nbconvert_exporter": "python",
   "pygments_lexer": "ipython3",
   "version": "3.7.6"
  }
 },
 "nbformat": 4,
 "nbformat_minor": 4
}
