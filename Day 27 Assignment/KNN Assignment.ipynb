{
 "cells": [
  {
   "cell_type": "code",
   "execution_count": 1,
   "metadata": {},
   "outputs": [],
   "source": [
    "import pandas as pd"
   ]
  },
  {
   "cell_type": "code",
   "execution_count": 2,
   "metadata": {},
   "outputs": [],
   "source": [
    "df = pd.read_csv('train.csv')"
   ]
  },
  {
   "cell_type": "code",
   "execution_count": 4,
   "metadata": {},
   "outputs": [],
   "source": [
    "from sklearn.preprocessing import LabelEncoder\n",
    "le = LabelEncoder()\n",
    "df['Sex'] = le.fit_transform(df['Sex'])\n",
    "df['Embarked'] = le.fit_transform(df['Embarked'])"
   ]
  },
  {
   "cell_type": "code",
   "execution_count": 6,
   "metadata": {},
   "outputs": [],
   "source": [
    "df = df.drop(['Name','PassengerId','Ticket','Cabin','Age','Fare'],axis=1)"
   ]
  },
  {
   "cell_type": "code",
   "execution_count": 7,
   "metadata": {},
   "outputs": [
    {
     "data": {
      "text/html": [
       "<div>\n",
       "<style scoped>\n",
       "    .dataframe tbody tr th:only-of-type {\n",
       "        vertical-align: middle;\n",
       "    }\n",
       "\n",
       "    .dataframe tbody tr th {\n",
       "        vertical-align: top;\n",
       "    }\n",
       "\n",
       "    .dataframe thead th {\n",
       "        text-align: right;\n",
       "    }\n",
       "</style>\n",
       "<table border=\"1\" class=\"dataframe\">\n",
       "  <thead>\n",
       "    <tr style=\"text-align: right;\">\n",
       "      <th></th>\n",
       "      <th>Survived</th>\n",
       "      <th>Pclass</th>\n",
       "      <th>Sex</th>\n",
       "      <th>SibSp</th>\n",
       "      <th>Parch</th>\n",
       "      <th>Embarked</th>\n",
       "    </tr>\n",
       "  </thead>\n",
       "  <tbody>\n",
       "    <tr>\n",
       "      <th>0</th>\n",
       "      <td>0</td>\n",
       "      <td>3</td>\n",
       "      <td>1</td>\n",
       "      <td>1</td>\n",
       "      <td>0</td>\n",
       "      <td>2</td>\n",
       "    </tr>\n",
       "    <tr>\n",
       "      <th>1</th>\n",
       "      <td>1</td>\n",
       "      <td>1</td>\n",
       "      <td>0</td>\n",
       "      <td>1</td>\n",
       "      <td>0</td>\n",
       "      <td>0</td>\n",
       "    </tr>\n",
       "    <tr>\n",
       "      <th>2</th>\n",
       "      <td>1</td>\n",
       "      <td>3</td>\n",
       "      <td>0</td>\n",
       "      <td>0</td>\n",
       "      <td>0</td>\n",
       "      <td>2</td>\n",
       "    </tr>\n",
       "    <tr>\n",
       "      <th>3</th>\n",
       "      <td>1</td>\n",
       "      <td>1</td>\n",
       "      <td>0</td>\n",
       "      <td>1</td>\n",
       "      <td>0</td>\n",
       "      <td>2</td>\n",
       "    </tr>\n",
       "    <tr>\n",
       "      <th>4</th>\n",
       "      <td>0</td>\n",
       "      <td>3</td>\n",
       "      <td>1</td>\n",
       "      <td>0</td>\n",
       "      <td>0</td>\n",
       "      <td>2</td>\n",
       "    </tr>\n",
       "  </tbody>\n",
       "</table>\n",
       "</div>"
      ],
      "text/plain": [
       "   Survived  Pclass  Sex  SibSp  Parch  Embarked\n",
       "0         0       3    1      1      0         2\n",
       "1         1       1    0      1      0         0\n",
       "2         1       3    0      0      0         2\n",
       "3         1       1    0      1      0         2\n",
       "4         0       3    1      0      0         2"
      ]
     },
     "execution_count": 7,
     "metadata": {},
     "output_type": "execute_result"
    }
   ],
   "source": [
    "df.head()"
   ]
  },
  {
   "cell_type": "code",
   "execution_count": 8,
   "metadata": {},
   "outputs": [],
   "source": [
    "col = ['Survived','Pclass','Sex','Sibsp','Parch','Embarked']"
   ]
  },
  {
   "cell_type": "code",
   "execution_count": 9,
   "metadata": {},
   "outputs": [],
   "source": [
    "from sklearn.model_selection import train_test_split\n",
    "from sklearn.metrics import accuracy_score,confusion_matrix\n",
    "from sklearn.neighbors import KNeighborsClassifier"
   ]
  },
  {
   "cell_type": "code",
   "execution_count": 19,
   "metadata": {},
   "outputs": [],
   "source": [
    "y = df['Pclass']\n",
    "X = df.drop(['Pclass'],axis = 1)\n",
    "X_train,X_test,y_train,y_test = train_test_split(X,y,test_size = 0.30,random_state = 0)"
   ]
  },
  {
   "cell_type": "code",
   "execution_count": 20,
   "metadata": {},
   "outputs": [],
   "source": [
    "def knncl(k):\n",
    "    knclf = KNeighborsClassifier(n_neighbors=k)\n",
    "    ypred = knclf.fit(X_train,y_train).predict(X_test)\n",
    "    ac = accuracy_score(y_test,ypred)\n",
    "    cm = confusion_matrix(y_test,ypred)\n",
    "    print(\"Accuracy Score : \",ac)\n",
    "    print('                    ')\n",
    "    print(\"Confusion Matrix :  \\n\",cm)"
   ]
  },
  {
   "cell_type": "code",
   "execution_count": 22,
   "metadata": {},
   "outputs": [
    {
     "name": "stdout",
     "output_type": "stream",
     "text": [
      "                    \n",
      "Accuracy Score and Confusion Matrix when k =  1\n",
      "Accuracy Score :  0.5917602996254682\n",
      "                    \n",
      "Confusion Matrix :  \n",
      " [[ 20  20  30]\n",
      " [  1  22  26]\n",
      " [  6  26 116]]\n",
      "                    \n",
      "Accuracy Score and Confusion Matrix when k =  2\n",
      "Accuracy Score :  0.4307116104868914\n",
      "                    \n",
      "Confusion Matrix :  \n",
      " [[34 30  6]\n",
      " [12 34  3]\n",
      " [17 84 47]]\n",
      "                    \n",
      "Accuracy Score and Confusion Matrix when k =  3\n",
      "Accuracy Score :  0.5955056179775281\n",
      "                    \n",
      "Confusion Matrix :  \n",
      " [[ 40   6  24]\n",
      " [ 16   6  27]\n",
      " [ 25  10 113]]\n",
      "                    \n",
      "Accuracy Score and Confusion Matrix when k =  4\n",
      "Accuracy Score :  0.5655430711610487\n",
      "                    \n",
      "Confusion Matrix :  \n",
      " [[ 32  18  20]\n",
      " [  6  16  27]\n",
      " [ 19  26 103]]\n",
      "                    \n",
      "Accuracy Score and Confusion Matrix when k =  5\n",
      "Accuracy Score :  0.5355805243445693\n",
      "                    \n",
      "Confusion Matrix :  \n",
      " [[43 15 12]\n",
      " [19  5 25]\n",
      " [29 24 95]]\n",
      "                    \n",
      "Accuracy Score and Confusion Matrix when k =  6\n",
      "Accuracy Score :  0.5842696629213483\n",
      "                    \n",
      "Confusion Matrix :  \n",
      " [[ 39   8  23]\n",
      " [ 14  10  25]\n",
      " [ 28  13 107]]\n",
      "                    \n",
      "Accuracy Score and Confusion Matrix when k =  7\n",
      "Accuracy Score :  0.5318352059925093\n",
      "                    \n",
      "Confusion Matrix :  \n",
      " [[ 28  17  25]\n",
      " [ 10  13  26]\n",
      " [ 16  31 101]]\n",
      "                    \n",
      "Accuracy Score and Confusion Matrix when k =  8\n",
      "Accuracy Score :  0.5805243445692884\n",
      "                    \n",
      "Confusion Matrix :  \n",
      " [[ 34  11  25]\n",
      " [ 12   8  29]\n",
      " [ 24  11 113]]\n",
      "                    \n",
      "Accuracy Score and Confusion Matrix when k =  9\n",
      "Accuracy Score :  0.5917602996254682\n",
      "                    \n",
      "Confusion Matrix :  \n",
      " [[ 34   9  27]\n",
      " [ 13   8  28]\n",
      " [ 26   6 116]]\n"
     ]
    }
   ],
   "source": [
    "for i in range(1,10):\n",
    "    print('                    ')\n",
    "    print('Accuracy Score and Confusion Matrix when k = ',i)\n",
    "    knncl(i)"
   ]
  }
 ],
 "metadata": {
  "kernelspec": {
   "display_name": "Python 3",
   "language": "python",
   "name": "python3"
  },
  "language_info": {
   "codemirror_mode": {
    "name": "ipython",
    "version": 3
   },
   "file_extension": ".py",
   "mimetype": "text/x-python",
   "name": "python",
   "nbconvert_exporter": "python",
   "pygments_lexer": "ipython3",
   "version": "3.7.6"
  }
 },
 "nbformat": 4,
 "nbformat_minor": 4
}
