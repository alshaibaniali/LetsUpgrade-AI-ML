{
 "cells": [
  {
   "cell_type": "code",
   "execution_count": 4,
   "metadata": {},
   "outputs": [
    {
     "name": "stdout",
     "output_type": "stream",
     "text": [
      "Requirement already satisfied: tweepy in c:\\users\\lenovo\\anaconda3\\lib\\site-packages (3.9.0)\n",
      "Requirement already satisfied: six>=1.10.0 in c:\\users\\lenovo\\anaconda3\\lib\\site-packages (from tweepy) (1.14.0)\n",
      "Requirement already satisfied: requests[socks]>=2.11.1 in c:\\users\\lenovo\\anaconda3\\lib\\site-packages (from tweepy) (2.22.0)\n",
      "Requirement already satisfied: requests-oauthlib>=0.7.0 in c:\\users\\lenovo\\anaconda3\\lib\\site-packages (from tweepy) (1.3.0)\n",
      "Requirement already satisfied: certifi>=2017.4.17 in c:\\users\\lenovo\\anaconda3\\lib\\site-packages (from requests[socks]>=2.11.1->tweepy) (2019.11.28)\n",
      "Requirement already satisfied: chardet<3.1.0,>=3.0.2 in c:\\users\\lenovo\\anaconda3\\lib\\site-packages (from requests[socks]>=2.11.1->tweepy) (3.0.4)\n",
      "Requirement already satisfied: idna<2.9,>=2.5 in c:\\users\\lenovo\\anaconda3\\lib\\site-packages (from requests[socks]>=2.11.1->tweepy) (2.8)\n",
      "Requirement already satisfied: urllib3!=1.25.0,!=1.25.1,<1.26,>=1.21.1 in c:\\users\\lenovo\\anaconda3\\lib\\site-packages (from requests[socks]>=2.11.1->tweepy) (1.25.8)\n",
      "Requirement already satisfied: PySocks!=1.5.7,>=1.5.6; extra == \"socks\" in c:\\users\\lenovo\\anaconda3\\lib\\site-packages (from requests[socks]>=2.11.1->tweepy) (1.7.1)\n",
      "Requirement already satisfied: oauthlib>=3.0.0 in c:\\users\\lenovo\\anaconda3\\lib\\site-packages (from requests-oauthlib>=0.7.0->tweepy) (3.1.0)\n",
      "Requirement already satisfied: openpyxl in c:\\users\\lenovo\\anaconda3\\lib\\site-packages (3.0.3)\n",
      "Requirement already satisfied: jdcal in c:\\users\\lenovo\\anaconda3\\lib\\site-packages (from openpyxl) (1.4.1)\n",
      "Requirement already satisfied: et-xmlfile in c:\\users\\lenovo\\anaconda3\\lib\\site-packages (from openpyxl) (1.0.1)\n"
     ]
    }
   ],
   "source": [
    "!pip install tweepy\n",
    "!pip install openpyxl\n",
    "import numpy as np\n",
    "import pandas as pd\n",
    "import tweepy\n",
    "import json\n",
    "from tweepy import OAuthHandler"
   ]
  },
  {
   "cell_type": "code",
   "execution_count": 3,
   "metadata": {},
   "outputs": [],
   "source": [
    "consumer_key = 'YOUR-API-KEY'\n",
    "consumer_secret = 'YOUR-API-SECRET-KEY'\n",
    "access_token = 'YOUR-ACCESS-TOKEN'\n",
    "access_token_secret = 'YOUR-ACCESS-SECRET-TOKEN'"
   ]
  },
  {
   "cell_type": "code",
   "execution_count": 6,
   "metadata": {},
   "outputs": [],
   "source": [
    "auth = tweepy.OAuthHandler(consumer_key,consumer_secret)\n",
    "auth.set_access_token(access_token,access_token_secret)\n",
    "api = tweepy.API(auth)"
   ]
  },
  {
   "cell_type": "code",
   "execution_count": 8,
   "metadata": {},
   "outputs": [],
   "source": [
    "query = \"US presidential election\""
   ]
  },
  {
   "cell_type": "code",
   "execution_count": 9,
   "metadata": {},
   "outputs": [
    {
     "name": "stdout",
     "output_type": "stream",
     "text": [
      "Status(_api=<tweepy.api.API object at 0x0000017F1E571388>, _json={'created_at': 'Tue Nov 03 05:30:32 +0000 2020', 'id': 1323497770297270273, 'id_str': '1323497770297270273', 'full_text': \"It's #ElectionDay in America. 🇺🇸\\n\\nFor our Filipino-American community in the United States, what are your hopes for today? Let us know your thoughts!\\n\\nBookmark and refresh https://t.co/pr8cujoEAd for #Elections2020 news and updates. #USVote #Vote https://t.co/ws9qp96iQV\", 'truncated': False, 'display_text_range': [0, 246], 'entities': {'hashtags': [{'text': 'ElectionDay', 'indices': [5, 17]}, {'text': 'Elections2020', 'indices': [200, 214]}, {'text': 'USVote', 'indices': [233, 240]}, {'text': 'Vote', 'indices': [241, 246]}], 'symbols': [], 'user_mentions': [], 'urls': [{'url': 'https://t.co/pr8cujoEAd', 'expanded_url': 'http://rplr.co/usvote2020', 'display_url': 'rplr.co/usvote2020', 'indices': [172, 195]}], 'media': [{'id': 1323497767868780544, 'id_str': '1323497767868780544', 'indices': [247, 270], 'media_url': 'http://pbs.twimg.com/media/El4CNSrXUAAlIXP.jpg', 'media_url_https': 'https://pbs.twimg.com/media/El4CNSrXUAAlIXP.jpg', 'url': 'https://t.co/ws9qp96iQV', 'display_url': 'pic.twitter.com/ws9qp96iQV', 'expanded_url': 'https://twitter.com/MovePH/status/1323497770297270273/photo/1', 'type': 'photo', 'sizes': {'large': {'w': 1280, 'h': 720, 'resize': 'fit'}, 'thumb': {'w': 150, 'h': 150, 'resize': 'crop'}, 'medium': {'w': 1200, 'h': 675, 'resize': 'fit'}, 'small': {'w': 680, 'h': 383, 'resize': 'fit'}}}]}, 'extended_entities': {'media': [{'id': 1323497767868780544, 'id_str': '1323497767868780544', 'indices': [247, 270], 'media_url': 'http://pbs.twimg.com/media/El4CNSrXUAAlIXP.jpg', 'media_url_https': 'https://pbs.twimg.com/media/El4CNSrXUAAlIXP.jpg', 'url': 'https://t.co/ws9qp96iQV', 'display_url': 'pic.twitter.com/ws9qp96iQV', 'expanded_url': 'https://twitter.com/MovePH/status/1323497770297270273/photo/1', 'type': 'photo', 'sizes': {'large': {'w': 1280, 'h': 720, 'resize': 'fit'}, 'thumb': {'w': 150, 'h': 150, 'resize': 'crop'}, 'medium': {'w': 1200, 'h': 675, 'resize': 'fit'}, 'small': {'w': 680, 'h': 383, 'resize': 'fit'}}}]}, 'metadata': {'iso_language_code': 'en', 'result_type': 'recent'}, 'source': '<a href=\"https://www.echobox.com\" rel=\"nofollow\">Echobox</a>', 'in_reply_to_status_id': None, 'in_reply_to_status_id_str': None, 'in_reply_to_user_id': None, 'in_reply_to_user_id_str': None, 'in_reply_to_screen_name': None, 'user': {'id': 369280667, 'id_str': '369280667', 'name': 'MovePH', 'screen_name': 'MovePH', 'location': 'Philippines', 'description': 'MovePH is the citizen journalism and civic engagement arm of @rapplerdotcom | Creating ripples of action in communities, through your stories. Tag us @MovePH.', 'url': 'https://t.co/Wa2kGJuRW1', 'entities': {'url': {'urls': [{'url': 'https://t.co/Wa2kGJuRW1', 'expanded_url': 'http://www.eepurl.com/NCpFP', 'display_url': 'eepurl.com/NCpFP', 'indices': [0, 23]}]}, 'description': {'urls': []}}, 'protected': False, 'followers_count': 37785, 'friends_count': 731, 'listed_count': 267, 'created_at': 'Wed Sep 07 02:41:52 +0000 2011', 'favourites_count': 2061, 'utc_offset': None, 'time_zone': None, 'geo_enabled': True, 'verified': True, 'statuses_count': 55164, 'lang': None, 'contributors_enabled': False, 'is_translator': False, 'is_translation_enabled': False, 'profile_background_color': '131516', 'profile_background_image_url': 'http://abs.twimg.com/images/themes/theme14/bg.gif', 'profile_background_image_url_https': 'https://abs.twimg.com/images/themes/theme14/bg.gif', 'profile_background_tile': True, 'profile_image_url': 'http://pbs.twimg.com/profile_images/1311217276561940481/kCN6_zuT_normal.jpg', 'profile_image_url_https': 'https://pbs.twimg.com/profile_images/1311217276561940481/kCN6_zuT_normal.jpg', 'profile_banner_url': 'https://pbs.twimg.com/profile_banners/369280667/1594727455', 'profile_link_color': '009999', 'profile_sidebar_border_color': 'EEEEEE', 'profile_sidebar_fill_color': 'EFEFEF', 'profile_text_color': '333333', 'profile_use_background_image': True, 'has_extended_profile': False, 'default_profile': False, 'default_profile_image': False, 'following': False, 'follow_request_sent': False, 'notifications': False, 'translator_type': 'none'}, 'geo': None, 'coordinates': None, 'place': None, 'contributors': None, 'is_quote_status': False, 'retweet_count': 0, 'favorite_count': 0, 'favorited': False, 'retweeted': False, 'possibly_sensitive': False, 'lang': 'en'}, created_at=datetime.datetime(2020, 11, 3, 5, 30, 32), id=1323497770297270273, id_str='1323497770297270273', full_text=\"It's #ElectionDay in America. 🇺🇸\\n\\nFor our Filipino-American community in the United States, what are your hopes for today? Let us know your thoughts!\\n\\nBookmark and refresh https://t.co/pr8cujoEAd for #Elections2020 news and updates. #USVote #Vote https://t.co/ws9qp96iQV\", truncated=False, display_text_range=[0, 246], entities={'hashtags': [{'text': 'ElectionDay', 'indices': [5, 17]}, {'text': 'Elections2020', 'indices': [200, 214]}, {'text': 'USVote', 'indices': [233, 240]}, {'text': 'Vote', 'indices': [241, 246]}], 'symbols': [], 'user_mentions': [], 'urls': [{'url': 'https://t.co/pr8cujoEAd', 'expanded_url': 'http://rplr.co/usvote2020', 'display_url': 'rplr.co/usvote2020', 'indices': [172, 195]}], 'media': [{'id': 1323497767868780544, 'id_str': '1323497767868780544', 'indices': [247, 270], 'media_url': 'http://pbs.twimg.com/media/El4CNSrXUAAlIXP.jpg', 'media_url_https': 'https://pbs.twimg.com/media/El4CNSrXUAAlIXP.jpg', 'url': 'https://t.co/ws9qp96iQV', 'display_url': 'pic.twitter.com/ws9qp96iQV', 'expanded_url': 'https://twitter.com/MovePH/status/1323497770297270273/photo/1', 'type': 'photo', 'sizes': {'large': {'w': 1280, 'h': 720, 'resize': 'fit'}, 'thumb': {'w': 150, 'h': 150, 'resize': 'crop'}, 'medium': {'w': 1200, 'h': 675, 'resize': 'fit'}, 'small': {'w': 680, 'h': 383, 'resize': 'fit'}}}]}, extended_entities={'media': [{'id': 1323497767868780544, 'id_str': '1323497767868780544', 'indices': [247, 270], 'media_url': 'http://pbs.twimg.com/media/El4CNSrXUAAlIXP.jpg', 'media_url_https': 'https://pbs.twimg.com/media/El4CNSrXUAAlIXP.jpg', 'url': 'https://t.co/ws9qp96iQV', 'display_url': 'pic.twitter.com/ws9qp96iQV', 'expanded_url': 'https://twitter.com/MovePH/status/1323497770297270273/photo/1', 'type': 'photo', 'sizes': {'large': {'w': 1280, 'h': 720, 'resize': 'fit'}, 'thumb': {'w': 150, 'h': 150, 'resize': 'crop'}, 'medium': {'w': 1200, 'h': 675, 'resize': 'fit'}, 'small': {'w': 680, 'h': 383, 'resize': 'fit'}}}]}, metadata={'iso_language_code': 'en', 'result_type': 'recent'}, source='Echobox', source_url='https://www.echobox.com', in_reply_to_status_id=None, in_reply_to_status_id_str=None, in_reply_to_user_id=None, in_reply_to_user_id_str=None, in_reply_to_screen_name=None, author=User(_api=<tweepy.api.API object at 0x0000017F1E571388>, _json={'id': 369280667, 'id_str': '369280667', 'name': 'MovePH', 'screen_name': 'MovePH', 'location': 'Philippines', 'description': 'MovePH is the citizen journalism and civic engagement arm of @rapplerdotcom | Creating ripples of action in communities, through your stories. Tag us @MovePH.', 'url': 'https://t.co/Wa2kGJuRW1', 'entities': {'url': {'urls': [{'url': 'https://t.co/Wa2kGJuRW1', 'expanded_url': 'http://www.eepurl.com/NCpFP', 'display_url': 'eepurl.com/NCpFP', 'indices': [0, 23]}]}, 'description': {'urls': []}}, 'protected': False, 'followers_count': 37785, 'friends_count': 731, 'listed_count': 267, 'created_at': 'Wed Sep 07 02:41:52 +0000 2011', 'favourites_count': 2061, 'utc_offset': None, 'time_zone': None, 'geo_enabled': True, 'verified': True, 'statuses_count': 55164, 'lang': None, 'contributors_enabled': False, 'is_translator': False, 'is_translation_enabled': False, 'profile_background_color': '131516', 'profile_background_image_url': 'http://abs.twimg.com/images/themes/theme14/bg.gif', 'profile_background_image_url_https': 'https://abs.twimg.com/images/themes/theme14/bg.gif', 'profile_background_tile': True, 'profile_image_url': 'http://pbs.twimg.com/profile_images/1311217276561940481/kCN6_zuT_normal.jpg', 'profile_image_url_https': 'https://pbs.twimg.com/profile_images/1311217276561940481/kCN6_zuT_normal.jpg', 'profile_banner_url': 'https://pbs.twimg.com/profile_banners/369280667/1594727455', 'profile_link_color': '009999', 'profile_sidebar_border_color': 'EEEEEE', 'profile_sidebar_fill_color': 'EFEFEF', 'profile_text_color': '333333', 'profile_use_background_image': True, 'has_extended_profile': False, 'default_profile': False, 'default_profile_image': False, 'following': False, 'follow_request_sent': False, 'notifications': False, 'translator_type': 'none'}, id=369280667, id_str='369280667', name='MovePH', screen_name='MovePH', location='Philippines', description='MovePH is the citizen journalism and civic engagement arm of @rapplerdotcom | Creating ripples of action in communities, through your stories. Tag us @MovePH.', url='https://t.co/Wa2kGJuRW1', entities={'url': {'urls': [{'url': 'https://t.co/Wa2kGJuRW1', 'expanded_url': 'http://www.eepurl.com/NCpFP', 'display_url': 'eepurl.com/NCpFP', 'indices': [0, 23]}]}, 'description': {'urls': []}}, protected=False, followers_count=37785, friends_count=731, listed_count=267, created_at=datetime.datetime(2011, 9, 7, 2, 41, 52), favourites_count=2061, utc_offset=None, time_zone=None, geo_enabled=True, verified=True, statuses_count=55164, lang=None, contributors_enabled=False, is_translator=False, is_translation_enabled=False, profile_background_color='131516', profile_background_image_url='http://abs.twimg.com/images/themes/theme14/bg.gif', profile_background_image_url_https='https://abs.twimg.com/images/themes/theme14/bg.gif', profile_background_tile=True, profile_image_url='http://pbs.twimg.com/profile_images/1311217276561940481/kCN6_zuT_normal.jpg', profile_image_url_https='https://pbs.twimg.com/profile_images/1311217276561940481/kCN6_zuT_normal.jpg', profile_banner_url='https://pbs.twimg.com/profile_banners/369280667/1594727455', profile_link_color='009999', profile_sidebar_border_color='EEEEEE', profile_sidebar_fill_color='EFEFEF', profile_text_color='333333', profile_use_background_image=True, has_extended_profile=False, default_profile=False, default_profile_image=False, following=False, follow_request_sent=False, notifications=False, translator_type='none'), user=User(_api=<tweepy.api.API object at 0x0000017F1E571388>, _json={'id': 369280667, 'id_str': '369280667', 'name': 'MovePH', 'screen_name': 'MovePH', 'location': 'Philippines', 'description': 'MovePH is the citizen journalism and civic engagement arm of @rapplerdotcom | Creating ripples of action in communities, through your stories. Tag us @MovePH.', 'url': 'https://t.co/Wa2kGJuRW1', 'entities': {'url': {'urls': [{'url': 'https://t.co/Wa2kGJuRW1', 'expanded_url': 'http://www.eepurl.com/NCpFP', 'display_url': 'eepurl.com/NCpFP', 'indices': [0, 23]}]}, 'description': {'urls': []}}, 'protected': False, 'followers_count': 37785, 'friends_count': 731, 'listed_count': 267, 'created_at': 'Wed Sep 07 02:41:52 +0000 2011', 'favourites_count': 2061, 'utc_offset': None, 'time_zone': None, 'geo_enabled': True, 'verified': True, 'statuses_count': 55164, 'lang': None, 'contributors_enabled': False, 'is_translator': False, 'is_translation_enabled': False, 'profile_background_color': '131516', 'profile_background_image_url': 'http://abs.twimg.com/images/themes/theme14/bg.gif', 'profile_background_image_url_https': 'https://abs.twimg.com/images/themes/theme14/bg.gif', 'profile_background_tile': True, 'profile_image_url': 'http://pbs.twimg.com/profile_images/1311217276561940481/kCN6_zuT_normal.jpg', 'profile_image_url_https': 'https://pbs.twimg.com/profile_images/1311217276561940481/kCN6_zuT_normal.jpg', 'profile_banner_url': 'https://pbs.twimg.com/profile_banners/369280667/1594727455', 'profile_link_color': '009999', 'profile_sidebar_border_color': 'EEEEEE', 'profile_sidebar_fill_color': 'EFEFEF', 'profile_text_color': '333333', 'profile_use_background_image': True, 'has_extended_profile': False, 'default_profile': False, 'default_profile_image': False, 'following': False, 'follow_request_sent': False, 'notifications': False, 'translator_type': 'none'}, id=369280667, id_str='369280667', name='MovePH', screen_name='MovePH', location='Philippines', description='MovePH is the citizen journalism and civic engagement arm of @rapplerdotcom | Creating ripples of action in communities, through your stories. Tag us @MovePH.', url='https://t.co/Wa2kGJuRW1', entities={'url': {'urls': [{'url': 'https://t.co/Wa2kGJuRW1', 'expanded_url': 'http://www.eepurl.com/NCpFP', 'display_url': 'eepurl.com/NCpFP', 'indices': [0, 23]}]}, 'description': {'urls': []}}, protected=False, followers_count=37785, friends_count=731, listed_count=267, created_at=datetime.datetime(2011, 9, 7, 2, 41, 52), favourites_count=2061, utc_offset=None, time_zone=None, geo_enabled=True, verified=True, statuses_count=55164, lang=None, contributors_enabled=False, is_translator=False, is_translation_enabled=False, profile_background_color='131516', profile_background_image_url='http://abs.twimg.com/images/themes/theme14/bg.gif', profile_background_image_url_https='https://abs.twimg.com/images/themes/theme14/bg.gif', profile_background_tile=True, profile_image_url='http://pbs.twimg.com/profile_images/1311217276561940481/kCN6_zuT_normal.jpg', profile_image_url_https='https://pbs.twimg.com/profile_images/1311217276561940481/kCN6_zuT_normal.jpg', profile_banner_url='https://pbs.twimg.com/profile_banners/369280667/1594727455', profile_link_color='009999', profile_sidebar_border_color='EEEEEE', profile_sidebar_fill_color='EFEFEF', profile_text_color='333333', profile_use_background_image=True, has_extended_profile=False, default_profile=False, default_profile_image=False, following=False, follow_request_sent=False, notifications=False, translator_type='none'), geo=None, coordinates=None, place=None, contributors=None, is_quote_status=False, retweet_count=0, favorite_count=0, favorited=False, retweeted=False, possibly_sensitive=False, lang='en') \n",
      "\n",
      "******************************\n",
      "Status(_api=<tweepy.api.API object at 0x0000017F1E571388>, _json={'created_at': 'Tue Nov 03 05:30:10 +0000 2020', 'id': 1323497678618198018, 'id_str': '1323497678618198018', 'full_text': '2020 US Presidential Election: What does a Trump or Biden win potentially mean for gold prices?\\n\\nLearn more about it from our final article of the series.\\n\\nRead all the insights and analysis here: https://t.co/1qKTnRS8Bs\\n\\nLosses can exceed deposits https://t.co/CWYT3iXwSv', 'truncated': False, 'display_text_range': [0, 248], 'entities': {'hashtags': [], 'symbols': [], 'user_mentions': [], 'urls': [{'url': 'https://t.co/1qKTnRS8Bs', 'expanded_url': 'http://ow.ly/sgs550C9S8y', 'display_url': 'ow.ly/sgs550C9S8y', 'indices': [197, 220]}], 'media': [{'id': 1323497677057937408, 'id_str': '1323497677057937408', 'indices': [249, 272], 'media_url': 'http://pbs.twimg.com/media/El4CIAYX0AAlkZo.jpg', 'media_url_https': 'https://pbs.twimg.com/media/El4CIAYX0AAlkZo.jpg', 'url': 'https://t.co/CWYT3iXwSv', 'display_url': 'pic.twitter.com/CWYT3iXwSv', 'expanded_url': 'https://twitter.com/axi_official/status/1323497678618198018/photo/1', 'type': 'photo', 'sizes': {'thumb': {'w': 150, 'h': 150, 'resize': 'crop'}, 'large': {'w': 1080, 'h': 1080, 'resize': 'fit'}, 'medium': {'w': 1080, 'h': 1080, 'resize': 'fit'}, 'small': {'w': 680, 'h': 680, 'resize': 'fit'}}}]}, 'extended_entities': {'media': [{'id': 1323497677057937408, 'id_str': '1323497677057937408', 'indices': [249, 272], 'media_url': 'http://pbs.twimg.com/media/El4CIAYX0AAlkZo.jpg', 'media_url_https': 'https://pbs.twimg.com/media/El4CIAYX0AAlkZo.jpg', 'url': 'https://t.co/CWYT3iXwSv', 'display_url': 'pic.twitter.com/CWYT3iXwSv', 'expanded_url': 'https://twitter.com/axi_official/status/1323497678618198018/photo/1', 'type': 'photo', 'sizes': {'thumb': {'w': 150, 'h': 150, 'resize': 'crop'}, 'large': {'w': 1080, 'h': 1080, 'resize': 'fit'}, 'medium': {'w': 1080, 'h': 1080, 'resize': 'fit'}, 'small': {'w': 680, 'h': 680, 'resize': 'fit'}}}]}, 'metadata': {'iso_language_code': 'en', 'result_type': 'recent'}, 'source': '<a href=\"https://www.hootsuite.com\" rel=\"nofollow\">Hootsuite Inc.</a>', 'in_reply_to_status_id': None, 'in_reply_to_status_id_str': None, 'in_reply_to_user_id': None, 'in_reply_to_user_id_str': None, 'in_reply_to_screen_name': None, 'user': {'id': 181734086, 'id_str': '181734086', 'name': 'Axi', 'screen_name': 'axi_official', 'location': 'Sydney, Australia', 'description': '#TradeYourEdge\\nDiscover how we can help you achieve your trading ambitions.', 'url': 'https://t.co/Uggvi3w4Er', 'entities': {'url': {'urls': [{'url': 'https://t.co/Uggvi3w4Er', 'expanded_url': 'https://www.axi.com', 'display_url': 'axi.com', 'indices': [0, 23]}]}, 'description': {'urls': []}}, 'protected': False, 'followers_count': 15000, 'friends_count': 8229, 'listed_count': 165, 'created_at': 'Sun Aug 22 23:02:39 +0000 2010', 'favourites_count': 8306, 'utc_offset': None, 'time_zone': None, 'geo_enabled': False, 'verified': False, 'statuses_count': 18321, 'lang': None, 'contributors_enabled': False, 'is_translator': False, 'is_translation_enabled': False, 'profile_background_color': '16A4B9', 'profile_background_image_url': 'http://abs.twimg.com/images/themes/theme1/bg.png', 'profile_background_image_url_https': 'https://abs.twimg.com/images/themes/theme1/bg.png', 'profile_background_tile': False, 'profile_image_url': 'http://pbs.twimg.com/profile_images/1311220387707985920/KO_9ZF8M_normal.png', 'profile_image_url_https': 'https://pbs.twimg.com/profile_images/1311220387707985920/KO_9ZF8M_normal.png', 'profile_banner_url': 'https://pbs.twimg.com/profile_banners/181734086/1601454309', 'profile_link_color': 'B01117', 'profile_sidebar_border_color': 'FFFFFF', 'profile_sidebar_fill_color': 'C46A72', 'profile_text_color': '333333', 'profile_use_background_image': True, 'has_extended_profile': False, 'default_profile': False, 'default_profile_image': False, 'following': False, 'follow_request_sent': False, 'notifications': False, 'translator_type': 'none'}, 'geo': None, 'coordinates': None, 'place': None, 'contributors': None, 'is_quote_status': False, 'retweet_count': 0, 'favorite_count': 0, 'favorited': False, 'retweeted': False, 'possibly_sensitive': False, 'lang': 'en'}, created_at=datetime.datetime(2020, 11, 3, 5, 30, 10), id=1323497678618198018, id_str='1323497678618198018', full_text='2020 US Presidential Election: What does a Trump or Biden win potentially mean for gold prices?\\n\\nLearn more about it from our final article of the series.\\n\\nRead all the insights and analysis here: https://t.co/1qKTnRS8Bs\\n\\nLosses can exceed deposits https://t.co/CWYT3iXwSv', truncated=False, display_text_range=[0, 248], entities={'hashtags': [], 'symbols': [], 'user_mentions': [], 'urls': [{'url': 'https://t.co/1qKTnRS8Bs', 'expanded_url': 'http://ow.ly/sgs550C9S8y', 'display_url': 'ow.ly/sgs550C9S8y', 'indices': [197, 220]}], 'media': [{'id': 1323497677057937408, 'id_str': '1323497677057937408', 'indices': [249, 272], 'media_url': 'http://pbs.twimg.com/media/El4CIAYX0AAlkZo.jpg', 'media_url_https': 'https://pbs.twimg.com/media/El4CIAYX0AAlkZo.jpg', 'url': 'https://t.co/CWYT3iXwSv', 'display_url': 'pic.twitter.com/CWYT3iXwSv', 'expanded_url': 'https://twitter.com/axi_official/status/1323497678618198018/photo/1', 'type': 'photo', 'sizes': {'thumb': {'w': 150, 'h': 150, 'resize': 'crop'}, 'large': {'w': 1080, 'h': 1080, 'resize': 'fit'}, 'medium': {'w': 1080, 'h': 1080, 'resize': 'fit'}, 'small': {'w': 680, 'h': 680, 'resize': 'fit'}}}]}, extended_entities={'media': [{'id': 1323497677057937408, 'id_str': '1323497677057937408', 'indices': [249, 272], 'media_url': 'http://pbs.twimg.com/media/El4CIAYX0AAlkZo.jpg', 'media_url_https': 'https://pbs.twimg.com/media/El4CIAYX0AAlkZo.jpg', 'url': 'https://t.co/CWYT3iXwSv', 'display_url': 'pic.twitter.com/CWYT3iXwSv', 'expanded_url': 'https://twitter.com/axi_official/status/1323497678618198018/photo/1', 'type': 'photo', 'sizes': {'thumb': {'w': 150, 'h': 150, 'resize': 'crop'}, 'large': {'w': 1080, 'h': 1080, 'resize': 'fit'}, 'medium': {'w': 1080, 'h': 1080, 'resize': 'fit'}, 'small': {'w': 680, 'h': 680, 'resize': 'fit'}}}]}, metadata={'iso_language_code': 'en', 'result_type': 'recent'}, source='Hootsuite Inc.', source_url='https://www.hootsuite.com', in_reply_to_status_id=None, in_reply_to_status_id_str=None, in_reply_to_user_id=None, in_reply_to_user_id_str=None, in_reply_to_screen_name=None, author=User(_api=<tweepy.api.API object at 0x0000017F1E571388>, _json={'id': 181734086, 'id_str': '181734086', 'name': 'Axi', 'screen_name': 'axi_official', 'location': 'Sydney, Australia', 'description': '#TradeYourEdge\\nDiscover how we can help you achieve your trading ambitions.', 'url': 'https://t.co/Uggvi3w4Er', 'entities': {'url': {'urls': [{'url': 'https://t.co/Uggvi3w4Er', 'expanded_url': 'https://www.axi.com', 'display_url': 'axi.com', 'indices': [0, 23]}]}, 'description': {'urls': []}}, 'protected': False, 'followers_count': 15000, 'friends_count': 8229, 'listed_count': 165, 'created_at': 'Sun Aug 22 23:02:39 +0000 2010', 'favourites_count': 8306, 'utc_offset': None, 'time_zone': None, 'geo_enabled': False, 'verified': False, 'statuses_count': 18321, 'lang': None, 'contributors_enabled': False, 'is_translator': False, 'is_translation_enabled': False, 'profile_background_color': '16A4B9', 'profile_background_image_url': 'http://abs.twimg.com/images/themes/theme1/bg.png', 'profile_background_image_url_https': 'https://abs.twimg.com/images/themes/theme1/bg.png', 'profile_background_tile': False, 'profile_image_url': 'http://pbs.twimg.com/profile_images/1311220387707985920/KO_9ZF8M_normal.png', 'profile_image_url_https': 'https://pbs.twimg.com/profile_images/1311220387707985920/KO_9ZF8M_normal.png', 'profile_banner_url': 'https://pbs.twimg.com/profile_banners/181734086/1601454309', 'profile_link_color': 'B01117', 'profile_sidebar_border_color': 'FFFFFF', 'profile_sidebar_fill_color': 'C46A72', 'profile_text_color': '333333', 'profile_use_background_image': True, 'has_extended_profile': False, 'default_profile': False, 'default_profile_image': False, 'following': False, 'follow_request_sent': False, 'notifications': False, 'translator_type': 'none'}, id=181734086, id_str='181734086', name='Axi', screen_name='axi_official', location='Sydney, Australia', description='#TradeYourEdge\\nDiscover how we can help you achieve your trading ambitions.', url='https://t.co/Uggvi3w4Er', entities={'url': {'urls': [{'url': 'https://t.co/Uggvi3w4Er', 'expanded_url': 'https://www.axi.com', 'display_url': 'axi.com', 'indices': [0, 23]}]}, 'description': {'urls': []}}, protected=False, followers_count=15000, friends_count=8229, listed_count=165, created_at=datetime.datetime(2010, 8, 22, 23, 2, 39), favourites_count=8306, utc_offset=None, time_zone=None, geo_enabled=False, verified=False, statuses_count=18321, lang=None, contributors_enabled=False, is_translator=False, is_translation_enabled=False, profile_background_color='16A4B9', profile_background_image_url='http://abs.twimg.com/images/themes/theme1/bg.png', profile_background_image_url_https='https://abs.twimg.com/images/themes/theme1/bg.png', profile_background_tile=False, profile_image_url='http://pbs.twimg.com/profile_images/1311220387707985920/KO_9ZF8M_normal.png', profile_image_url_https='https://pbs.twimg.com/profile_images/1311220387707985920/KO_9ZF8M_normal.png', profile_banner_url='https://pbs.twimg.com/profile_banners/181734086/1601454309', profile_link_color='B01117', profile_sidebar_border_color='FFFFFF', profile_sidebar_fill_color='C46A72', profile_text_color='333333', profile_use_background_image=True, has_extended_profile=False, default_profile=False, default_profile_image=False, following=False, follow_request_sent=False, notifications=False, translator_type='none'), user=User(_api=<tweepy.api.API object at 0x0000017F1E571388>, _json={'id': 181734086, 'id_str': '181734086', 'name': 'Axi', 'screen_name': 'axi_official', 'location': 'Sydney, Australia', 'description': '#TradeYourEdge\\nDiscover how we can help you achieve your trading ambitions.', 'url': 'https://t.co/Uggvi3w4Er', 'entities': {'url': {'urls': [{'url': 'https://t.co/Uggvi3w4Er', 'expanded_url': 'https://www.axi.com', 'display_url': 'axi.com', 'indices': [0, 23]}]}, 'description': {'urls': []}}, 'protected': False, 'followers_count': 15000, 'friends_count': 8229, 'listed_count': 165, 'created_at': 'Sun Aug 22 23:02:39 +0000 2010', 'favourites_count': 8306, 'utc_offset': None, 'time_zone': None, 'geo_enabled': False, 'verified': False, 'statuses_count': 18321, 'lang': None, 'contributors_enabled': False, 'is_translator': False, 'is_translation_enabled': False, 'profile_background_color': '16A4B9', 'profile_background_image_url': 'http://abs.twimg.com/images/themes/theme1/bg.png', 'profile_background_image_url_https': 'https://abs.twimg.com/images/themes/theme1/bg.png', 'profile_background_tile': False, 'profile_image_url': 'http://pbs.twimg.com/profile_images/1311220387707985920/KO_9ZF8M_normal.png', 'profile_image_url_https': 'https://pbs.twimg.com/profile_images/1311220387707985920/KO_9ZF8M_normal.png', 'profile_banner_url': 'https://pbs.twimg.com/profile_banners/181734086/1601454309', 'profile_link_color': 'B01117', 'profile_sidebar_border_color': 'FFFFFF', 'profile_sidebar_fill_color': 'C46A72', 'profile_text_color': '333333', 'profile_use_background_image': True, 'has_extended_profile': False, 'default_profile': False, 'default_profile_image': False, 'following': False, 'follow_request_sent': False, 'notifications': False, 'translator_type': 'none'}, id=181734086, id_str='181734086', name='Axi', screen_name='axi_official', location='Sydney, Australia', description='#TradeYourEdge\\nDiscover how we can help you achieve your trading ambitions.', url='https://t.co/Uggvi3w4Er', entities={'url': {'urls': [{'url': 'https://t.co/Uggvi3w4Er', 'expanded_url': 'https://www.axi.com', 'display_url': 'axi.com', 'indices': [0, 23]}]}, 'description': {'urls': []}}, protected=False, followers_count=15000, friends_count=8229, listed_count=165, created_at=datetime.datetime(2010, 8, 22, 23, 2, 39), favourites_count=8306, utc_offset=None, time_zone=None, geo_enabled=False, verified=False, statuses_count=18321, lang=None, contributors_enabled=False, is_translator=False, is_translation_enabled=False, profile_background_color='16A4B9', profile_background_image_url='http://abs.twimg.com/images/themes/theme1/bg.png', profile_background_image_url_https='https://abs.twimg.com/images/themes/theme1/bg.png', profile_background_tile=False, profile_image_url='http://pbs.twimg.com/profile_images/1311220387707985920/KO_9ZF8M_normal.png', profile_image_url_https='https://pbs.twimg.com/profile_images/1311220387707985920/KO_9ZF8M_normal.png', profile_banner_url='https://pbs.twimg.com/profile_banners/181734086/1601454309', profile_link_color='B01117', profile_sidebar_border_color='FFFFFF', profile_sidebar_fill_color='C46A72', profile_text_color='333333', profile_use_background_image=True, has_extended_profile=False, default_profile=False, default_profile_image=False, following=False, follow_request_sent=False, notifications=False, translator_type='none'), geo=None, coordinates=None, place=None, contributors=None, is_quote_status=False, retweet_count=0, favorite_count=0, favorited=False, retweeted=False, possibly_sensitive=False, lang='en') \n",
      "\n",
      "******************************\n",
      "Status(_api=<tweepy.api.API object at 0x0000017F1E571388>, _json={'created_at': 'Tue Nov 03 05:30:04 +0000 2020', 'id': 1323497651787235328, 'id_str': '1323497651787235328', 'full_text': 'The election results are expected to start rolling in tomorrow morning.  https://t.co/hbXRG4hTpG', 'truncated': False, 'display_text_range': [0, 96], 'entities': {'hashtags': [], 'symbols': [], 'user_mentions': [], 'urls': [{'url': 'https://t.co/hbXRG4hTpG', 'expanded_url': 'https://www.popsugar.com.au/news/how-to-watch-us-presidential-election-in-australia-47938573?utm_medium=twitter&utm_source=post&utm_campaign=popsugarau', 'display_url': 'popsugar.com.au/news/how-to-wa…', 'indices': [73, 96]}]}, 'metadata': {'iso_language_code': 'en', 'result_type': 'recent'}, 'source': '<a href=\"https://www.popsugar.com\" rel=\"nofollow\">popsugar.com</a>', 'in_reply_to_status_id': None, 'in_reply_to_status_id_str': None, 'in_reply_to_user_id': None, 'in_reply_to_user_id_str': None, 'in_reply_to_screen_name': None, 'user': {'id': 74578857, 'id_str': '74578857', 'name': 'POPSUGAR Australia', 'screen_name': 'popsugarau', 'location': 'Australia', 'description': 'Look good. Feel good. Do good.', 'url': 'https://t.co/zYrJfQjqcG', 'entities': {'url': {'urls': [{'url': 'https://t.co/zYrJfQjqcG', 'expanded_url': 'http://www.popsugar.com.au/', 'display_url': 'popsugar.com.au', 'indices': [0, 23]}]}, 'description': {'urls': []}}, 'protected': False, 'followers_count': 68401, 'friends_count': 2109, 'listed_count': 286, 'created_at': 'Tue Sep 15 22:42:35 +0000 2009', 'favourites_count': 906, 'utc_offset': None, 'time_zone': None, 'geo_enabled': True, 'verified': True, 'statuses_count': 111206, 'lang': None, 'contributors_enabled': False, 'is_translator': False, 'is_translation_enabled': False, 'profile_background_color': 'FFFFFF', 'profile_background_image_url': 'http://abs.twimg.com/images/themes/theme1/bg.png', 'profile_background_image_url_https': 'https://abs.twimg.com/images/themes/theme1/bg.png', 'profile_background_tile': False, 'profile_image_url': 'http://pbs.twimg.com/profile_images/1265520742130688002/e-KzGPvM_normal.jpg', 'profile_image_url_https': 'https://pbs.twimg.com/profile_images/1265520742130688002/e-KzGPvM_normal.jpg', 'profile_banner_url': 'https://pbs.twimg.com/profile_banners/74578857/1590558647', 'profile_link_color': '000000', 'profile_sidebar_border_color': 'FFFFFF', 'profile_sidebar_fill_color': 'FFFFFF', 'profile_text_color': '000000', 'profile_use_background_image': False, 'has_extended_profile': False, 'default_profile': False, 'default_profile_image': False, 'following': False, 'follow_request_sent': False, 'notifications': False, 'translator_type': 'none'}, 'geo': None, 'coordinates': None, 'place': None, 'contributors': None, 'is_quote_status': False, 'retweet_count': 0, 'favorite_count': 0, 'favorited': False, 'retweeted': False, 'possibly_sensitive': False, 'lang': 'en'}, created_at=datetime.datetime(2020, 11, 3, 5, 30, 4), id=1323497651787235328, id_str='1323497651787235328', full_text='The election results are expected to start rolling in tomorrow morning.  https://t.co/hbXRG4hTpG', truncated=False, display_text_range=[0, 96], entities={'hashtags': [], 'symbols': [], 'user_mentions': [], 'urls': [{'url': 'https://t.co/hbXRG4hTpG', 'expanded_url': 'https://www.popsugar.com.au/news/how-to-watch-us-presidential-election-in-australia-47938573?utm_medium=twitter&utm_source=post&utm_campaign=popsugarau', 'display_url': 'popsugar.com.au/news/how-to-wa…', 'indices': [73, 96]}]}, metadata={'iso_language_code': 'en', 'result_type': 'recent'}, source='popsugar.com', source_url='https://www.popsugar.com', in_reply_to_status_id=None, in_reply_to_status_id_str=None, in_reply_to_user_id=None, in_reply_to_user_id_str=None, in_reply_to_screen_name=None, author=User(_api=<tweepy.api.API object at 0x0000017F1E571388>, _json={'id': 74578857, 'id_str': '74578857', 'name': 'POPSUGAR Australia', 'screen_name': 'popsugarau', 'location': 'Australia', 'description': 'Look good. Feel good. Do good.', 'url': 'https://t.co/zYrJfQjqcG', 'entities': {'url': {'urls': [{'url': 'https://t.co/zYrJfQjqcG', 'expanded_url': 'http://www.popsugar.com.au/', 'display_url': 'popsugar.com.au', 'indices': [0, 23]}]}, 'description': {'urls': []}}, 'protected': False, 'followers_count': 68401, 'friends_count': 2109, 'listed_count': 286, 'created_at': 'Tue Sep 15 22:42:35 +0000 2009', 'favourites_count': 906, 'utc_offset': None, 'time_zone': None, 'geo_enabled': True, 'verified': True, 'statuses_count': 111206, 'lang': None, 'contributors_enabled': False, 'is_translator': False, 'is_translation_enabled': False, 'profile_background_color': 'FFFFFF', 'profile_background_image_url': 'http://abs.twimg.com/images/themes/theme1/bg.png', 'profile_background_image_url_https': 'https://abs.twimg.com/images/themes/theme1/bg.png', 'profile_background_tile': False, 'profile_image_url': 'http://pbs.twimg.com/profile_images/1265520742130688002/e-KzGPvM_normal.jpg', 'profile_image_url_https': 'https://pbs.twimg.com/profile_images/1265520742130688002/e-KzGPvM_normal.jpg', 'profile_banner_url': 'https://pbs.twimg.com/profile_banners/74578857/1590558647', 'profile_link_color': '000000', 'profile_sidebar_border_color': 'FFFFFF', 'profile_sidebar_fill_color': 'FFFFFF', 'profile_text_color': '000000', 'profile_use_background_image': False, 'has_extended_profile': False, 'default_profile': False, 'default_profile_image': False, 'following': False, 'follow_request_sent': False, 'notifications': False, 'translator_type': 'none'}, id=74578857, id_str='74578857', name='POPSUGAR Australia', screen_name='popsugarau', location='Australia', description='Look good. Feel good. Do good.', url='https://t.co/zYrJfQjqcG', entities={'url': {'urls': [{'url': 'https://t.co/zYrJfQjqcG', 'expanded_url': 'http://www.popsugar.com.au/', 'display_url': 'popsugar.com.au', 'indices': [0, 23]}]}, 'description': {'urls': []}}, protected=False, followers_count=68401, friends_count=2109, listed_count=286, created_at=datetime.datetime(2009, 9, 15, 22, 42, 35), favourites_count=906, utc_offset=None, time_zone=None, geo_enabled=True, verified=True, statuses_count=111206, lang=None, contributors_enabled=False, is_translator=False, is_translation_enabled=False, profile_background_color='FFFFFF', profile_background_image_url='http://abs.twimg.com/images/themes/theme1/bg.png', profile_background_image_url_https='https://abs.twimg.com/images/themes/theme1/bg.png', profile_background_tile=False, profile_image_url='http://pbs.twimg.com/profile_images/1265520742130688002/e-KzGPvM_normal.jpg', profile_image_url_https='https://pbs.twimg.com/profile_images/1265520742130688002/e-KzGPvM_normal.jpg', profile_banner_url='https://pbs.twimg.com/profile_banners/74578857/1590558647', profile_link_color='000000', profile_sidebar_border_color='FFFFFF', profile_sidebar_fill_color='FFFFFF', profile_text_color='000000', profile_use_background_image=False, has_extended_profile=False, default_profile=False, default_profile_image=False, following=False, follow_request_sent=False, notifications=False, translator_type='none'), user=User(_api=<tweepy.api.API object at 0x0000017F1E571388>, _json={'id': 74578857, 'id_str': '74578857', 'name': 'POPSUGAR Australia', 'screen_name': 'popsugarau', 'location': 'Australia', 'description': 'Look good. Feel good. Do good.', 'url': 'https://t.co/zYrJfQjqcG', 'entities': {'url': {'urls': [{'url': 'https://t.co/zYrJfQjqcG', 'expanded_url': 'http://www.popsugar.com.au/', 'display_url': 'popsugar.com.au', 'indices': [0, 23]}]}, 'description': {'urls': []}}, 'protected': False, 'followers_count': 68401, 'friends_count': 2109, 'listed_count': 286, 'created_at': 'Tue Sep 15 22:42:35 +0000 2009', 'favourites_count': 906, 'utc_offset': None, 'time_zone': None, 'geo_enabled': True, 'verified': True, 'statuses_count': 111206, 'lang': None, 'contributors_enabled': False, 'is_translator': False, 'is_translation_enabled': False, 'profile_background_color': 'FFFFFF', 'profile_background_image_url': 'http://abs.twimg.com/images/themes/theme1/bg.png', 'profile_background_image_url_https': 'https://abs.twimg.com/images/themes/theme1/bg.png', 'profile_background_tile': False, 'profile_image_url': 'http://pbs.twimg.com/profile_images/1265520742130688002/e-KzGPvM_normal.jpg', 'profile_image_url_https': 'https://pbs.twimg.com/profile_images/1265520742130688002/e-KzGPvM_normal.jpg', 'profile_banner_url': 'https://pbs.twimg.com/profile_banners/74578857/1590558647', 'profile_link_color': '000000', 'profile_sidebar_border_color': 'FFFFFF', 'profile_sidebar_fill_color': 'FFFFFF', 'profile_text_color': '000000', 'profile_use_background_image': False, 'has_extended_profile': False, 'default_profile': False, 'default_profile_image': False, 'following': False, 'follow_request_sent': False, 'notifications': False, 'translator_type': 'none'}, id=74578857, id_str='74578857', name='POPSUGAR Australia', screen_name='popsugarau', location='Australia', description='Look good. Feel good. Do good.', url='https://t.co/zYrJfQjqcG', entities={'url': {'urls': [{'url': 'https://t.co/zYrJfQjqcG', 'expanded_url': 'http://www.popsugar.com.au/', 'display_url': 'popsugar.com.au', 'indices': [0, 23]}]}, 'description': {'urls': []}}, protected=False, followers_count=68401, friends_count=2109, listed_count=286, created_at=datetime.datetime(2009, 9, 15, 22, 42, 35), favourites_count=906, utc_offset=None, time_zone=None, geo_enabled=True, verified=True, statuses_count=111206, lang=None, contributors_enabled=False, is_translator=False, is_translation_enabled=False, profile_background_color='FFFFFF', profile_background_image_url='http://abs.twimg.com/images/themes/theme1/bg.png', profile_background_image_url_https='https://abs.twimg.com/images/themes/theme1/bg.png', profile_background_tile=False, profile_image_url='http://pbs.twimg.com/profile_images/1265520742130688002/e-KzGPvM_normal.jpg', profile_image_url_https='https://pbs.twimg.com/profile_images/1265520742130688002/e-KzGPvM_normal.jpg', profile_banner_url='https://pbs.twimg.com/profile_banners/74578857/1590558647', profile_link_color='000000', profile_sidebar_border_color='FFFFFF', profile_sidebar_fill_color='FFFFFF', profile_text_color='000000', profile_use_background_image=False, has_extended_profile=False, default_profile=False, default_profile_image=False, following=False, follow_request_sent=False, notifications=False, translator_type='none'), geo=None, coordinates=None, place=None, contributors=None, is_quote_status=False, retweet_count=0, favorite_count=0, favorited=False, retweeted=False, possibly_sensitive=False, lang='en') \n",
      "\n",
      "******************************\n",
      "Status(_api=<tweepy.api.API object at 0x0000017F1E571388>, _json={'created_at': 'Tue Nov 03 05:30:00 +0000 2020', 'id': 1323497634900762624, 'id_str': '1323497634900762624', 'full_text': 'If we go by the pre-election polls that track the preference of registered voters, it seems Democrat nominee Joe Biden has an edge over current US president Donald Trump in the 2020 US presidential election.\\n\\n#USElections2020 \\n\\nhttps://t.co/DMmJL9tkwJ', 'truncated': False, 'display_text_range': [0, 251], 'entities': {'hashtags': [{'text': 'USElections2020', 'indices': [209, 225]}], 'symbols': [], 'user_mentions': [], 'urls': [{'url': 'https://t.co/DMmJL9tkwJ', 'expanded_url': 'https://www.news18.com/news/world/if-pre-election-surveys-prove-correct-joe-biden-is-going-to-be-next-american-president-3035921.html', 'display_url': 'news18.com/news/world/if-…', 'indices': [228, 251]}]}, 'metadata': {'iso_language_code': 'en', 'result_type': 'recent'}, 'source': '<a href=\"https://about.twitter.com/products/tweetdeck\" rel=\"nofollow\">TweetDeck</a>', 'in_reply_to_status_id': None, 'in_reply_to_status_id_str': None, 'in_reply_to_user_id': None, 'in_reply_to_user_id_str': None, 'in_reply_to_screen_name': None, 'user': {'id': 6509832, 'id_str': '6509832', 'name': 'CNNNews18', 'screen_name': 'CNNnews18', 'location': 'India', 'description': 'Lightning fast alerts, #BreakingNews from India and the world.', 'url': 'https://t.co/GtGDMfG5M1', 'entities': {'url': {'urls': [{'url': 'https://t.co/GtGDMfG5M1', 'expanded_url': 'http://www.News18.com', 'display_url': 'News18.com', 'indices': [0, 23]}]}, 'description': {'urls': []}}, 'protected': False, 'followers_count': 4539449, 'friends_count': 422, 'listed_count': 6181, 'created_at': 'Fri Jun 01 20:31:01 +0000 2007', 'favourites_count': 183, 'utc_offset': None, 'time_zone': None, 'geo_enabled': True, 'verified': True, 'statuses_count': 824530, 'lang': None, 'contributors_enabled': False, 'is_translator': False, 'is_translation_enabled': False, 'profile_background_color': '4A913C', 'profile_background_image_url': 'http://abs.twimg.com/images/themes/theme15/bg.png', 'profile_background_image_url_https': 'https://abs.twimg.com/images/themes/theme15/bg.png', 'profile_background_tile': True, 'profile_image_url': 'http://pbs.twimg.com/profile_images/1162229007439421440/k_CbYqJm_normal.jpg', 'profile_image_url_https': 'https://pbs.twimg.com/profile_images/1162229007439421440/k_CbYqJm_normal.jpg', 'profile_banner_url': 'https://pbs.twimg.com/profile_banners/6509832/1603872269', 'profile_link_color': 'E81C4F', 'profile_sidebar_border_color': 'A8C7F7', 'profile_sidebar_fill_color': 'C0DFEC', 'profile_text_color': '333333', 'profile_use_background_image': True, 'has_extended_profile': False, 'default_profile': False, 'default_profile_image': False, 'following': False, 'follow_request_sent': False, 'notifications': False, 'translator_type': 'none'}, 'geo': None, 'coordinates': None, 'place': None, 'contributors': None, 'is_quote_status': False, 'retweet_count': 0, 'favorite_count': 0, 'favorited': False, 'retweeted': False, 'possibly_sensitive': False, 'lang': 'en'}, created_at=datetime.datetime(2020, 11, 3, 5, 30), id=1323497634900762624, id_str='1323497634900762624', full_text='If we go by the pre-election polls that track the preference of registered voters, it seems Democrat nominee Joe Biden has an edge over current US president Donald Trump in the 2020 US presidential election.\\n\\n#USElections2020 \\n\\nhttps://t.co/DMmJL9tkwJ', truncated=False, display_text_range=[0, 251], entities={'hashtags': [{'text': 'USElections2020', 'indices': [209, 225]}], 'symbols': [], 'user_mentions': [], 'urls': [{'url': 'https://t.co/DMmJL9tkwJ', 'expanded_url': 'https://www.news18.com/news/world/if-pre-election-surveys-prove-correct-joe-biden-is-going-to-be-next-american-president-3035921.html', 'display_url': 'news18.com/news/world/if-…', 'indices': [228, 251]}]}, metadata={'iso_language_code': 'en', 'result_type': 'recent'}, source='TweetDeck', source_url='https://about.twitter.com/products/tweetdeck', in_reply_to_status_id=None, in_reply_to_status_id_str=None, in_reply_to_user_id=None, in_reply_to_user_id_str=None, in_reply_to_screen_name=None, author=User(_api=<tweepy.api.API object at 0x0000017F1E571388>, _json={'id': 6509832, 'id_str': '6509832', 'name': 'CNNNews18', 'screen_name': 'CNNnews18', 'location': 'India', 'description': 'Lightning fast alerts, #BreakingNews from India and the world.', 'url': 'https://t.co/GtGDMfG5M1', 'entities': {'url': {'urls': [{'url': 'https://t.co/GtGDMfG5M1', 'expanded_url': 'http://www.News18.com', 'display_url': 'News18.com', 'indices': [0, 23]}]}, 'description': {'urls': []}}, 'protected': False, 'followers_count': 4539449, 'friends_count': 422, 'listed_count': 6181, 'created_at': 'Fri Jun 01 20:31:01 +0000 2007', 'favourites_count': 183, 'utc_offset': None, 'time_zone': None, 'geo_enabled': True, 'verified': True, 'statuses_count': 824530, 'lang': None, 'contributors_enabled': False, 'is_translator': False, 'is_translation_enabled': False, 'profile_background_color': '4A913C', 'profile_background_image_url': 'http://abs.twimg.com/images/themes/theme15/bg.png', 'profile_background_image_url_https': 'https://abs.twimg.com/images/themes/theme15/bg.png', 'profile_background_tile': True, 'profile_image_url': 'http://pbs.twimg.com/profile_images/1162229007439421440/k_CbYqJm_normal.jpg', 'profile_image_url_https': 'https://pbs.twimg.com/profile_images/1162229007439421440/k_CbYqJm_normal.jpg', 'profile_banner_url': 'https://pbs.twimg.com/profile_banners/6509832/1603872269', 'profile_link_color': 'E81C4F', 'profile_sidebar_border_color': 'A8C7F7', 'profile_sidebar_fill_color': 'C0DFEC', 'profile_text_color': '333333', 'profile_use_background_image': True, 'has_extended_profile': False, 'default_profile': False, 'default_profile_image': False, 'following': False, 'follow_request_sent': False, 'notifications': False, 'translator_type': 'none'}, id=6509832, id_str='6509832', name='CNNNews18', screen_name='CNNnews18', location='India', description='Lightning fast alerts, #BreakingNews from India and the world.', url='https://t.co/GtGDMfG5M1', entities={'url': {'urls': [{'url': 'https://t.co/GtGDMfG5M1', 'expanded_url': 'http://www.News18.com', 'display_url': 'News18.com', 'indices': [0, 23]}]}, 'description': {'urls': []}}, protected=False, followers_count=4539449, friends_count=422, listed_count=6181, created_at=datetime.datetime(2007, 6, 1, 20, 31, 1), favourites_count=183, utc_offset=None, time_zone=None, geo_enabled=True, verified=True, statuses_count=824530, lang=None, contributors_enabled=False, is_translator=False, is_translation_enabled=False, profile_background_color='4A913C', profile_background_image_url='http://abs.twimg.com/images/themes/theme15/bg.png', profile_background_image_url_https='https://abs.twimg.com/images/themes/theme15/bg.png', profile_background_tile=True, profile_image_url='http://pbs.twimg.com/profile_images/1162229007439421440/k_CbYqJm_normal.jpg', profile_image_url_https='https://pbs.twimg.com/profile_images/1162229007439421440/k_CbYqJm_normal.jpg', profile_banner_url='https://pbs.twimg.com/profile_banners/6509832/1603872269', profile_link_color='E81C4F', profile_sidebar_border_color='A8C7F7', profile_sidebar_fill_color='C0DFEC', profile_text_color='333333', profile_use_background_image=True, has_extended_profile=False, default_profile=False, default_profile_image=False, following=False, follow_request_sent=False, notifications=False, translator_type='none'), user=User(_api=<tweepy.api.API object at 0x0000017F1E571388>, _json={'id': 6509832, 'id_str': '6509832', 'name': 'CNNNews18', 'screen_name': 'CNNnews18', 'location': 'India', 'description': 'Lightning fast alerts, #BreakingNews from India and the world.', 'url': 'https://t.co/GtGDMfG5M1', 'entities': {'url': {'urls': [{'url': 'https://t.co/GtGDMfG5M1', 'expanded_url': 'http://www.News18.com', 'display_url': 'News18.com', 'indices': [0, 23]}]}, 'description': {'urls': []}}, 'protected': False, 'followers_count': 4539449, 'friends_count': 422, 'listed_count': 6181, 'created_at': 'Fri Jun 01 20:31:01 +0000 2007', 'favourites_count': 183, 'utc_offset': None, 'time_zone': None, 'geo_enabled': True, 'verified': True, 'statuses_count': 824530, 'lang': None, 'contributors_enabled': False, 'is_translator': False, 'is_translation_enabled': False, 'profile_background_color': '4A913C', 'profile_background_image_url': 'http://abs.twimg.com/images/themes/theme15/bg.png', 'profile_background_image_url_https': 'https://abs.twimg.com/images/themes/theme15/bg.png', 'profile_background_tile': True, 'profile_image_url': 'http://pbs.twimg.com/profile_images/1162229007439421440/k_CbYqJm_normal.jpg', 'profile_image_url_https': 'https://pbs.twimg.com/profile_images/1162229007439421440/k_CbYqJm_normal.jpg', 'profile_banner_url': 'https://pbs.twimg.com/profile_banners/6509832/1603872269', 'profile_link_color': 'E81C4F', 'profile_sidebar_border_color': 'A8C7F7', 'profile_sidebar_fill_color': 'C0DFEC', 'profile_text_color': '333333', 'profile_use_background_image': True, 'has_extended_profile': False, 'default_profile': False, 'default_profile_image': False, 'following': False, 'follow_request_sent': False, 'notifications': False, 'translator_type': 'none'}, id=6509832, id_str='6509832', name='CNNNews18', screen_name='CNNnews18', location='India', description='Lightning fast alerts, #BreakingNews from India and the world.', url='https://t.co/GtGDMfG5M1', entities={'url': {'urls': [{'url': 'https://t.co/GtGDMfG5M1', 'expanded_url': 'http://www.News18.com', 'display_url': 'News18.com', 'indices': [0, 23]}]}, 'description': {'urls': []}}, protected=False, followers_count=4539449, friends_count=422, listed_count=6181, created_at=datetime.datetime(2007, 6, 1, 20, 31, 1), favourites_count=183, utc_offset=None, time_zone=None, geo_enabled=True, verified=True, statuses_count=824530, lang=None, contributors_enabled=False, is_translator=False, is_translation_enabled=False, profile_background_color='4A913C', profile_background_image_url='http://abs.twimg.com/images/themes/theme15/bg.png', profile_background_image_url_https='https://abs.twimg.com/images/themes/theme15/bg.png', profile_background_tile=True, profile_image_url='http://pbs.twimg.com/profile_images/1162229007439421440/k_CbYqJm_normal.jpg', profile_image_url_https='https://pbs.twimg.com/profile_images/1162229007439421440/k_CbYqJm_normal.jpg', profile_banner_url='https://pbs.twimg.com/profile_banners/6509832/1603872269', profile_link_color='E81C4F', profile_sidebar_border_color='A8C7F7', profile_sidebar_fill_color='C0DFEC', profile_text_color='333333', profile_use_background_image=True, has_extended_profile=False, default_profile=False, default_profile_image=False, following=False, follow_request_sent=False, notifications=False, translator_type='none'), geo=None, coordinates=None, place=None, contributors=None, is_quote_status=False, retweet_count=0, favorite_count=0, favorited=False, retweeted=False, possibly_sensitive=False, lang='en') \n",
      "\n",
      "******************************\n",
      "Status(_api=<tweepy.api.API object at 0x0000017F1E571388>, _json={'created_at': 'Tue Nov 03 05:29:43 +0000 2020', 'id': 1323497564625199104, 'id_str': '1323497564625199104', 'full_text': '@USSupreme_Court Arrests of all of the following OVERDUE\\nlee hsien loong \\nsingapore president\\nchief justice\\nattorney-general\\nlaw minister\\nhome affairs minister\\npolice commissioner\\nMany more......\\n\\nUS presidential election issues and more.', 'truncated': False, 'display_text_range': [0, 238], 'entities': {'hashtags': [], 'symbols': [], 'user_mentions': [{'screen_name': 'USSupreme_Court', 'name': 'U.S. Supreme Court', 'id': 708835308989714432, 'id_str': '708835308989714432', 'indices': [0, 16]}], 'urls': []}, 'metadata': {'iso_language_code': 'en', 'result_type': 'recent'}, 'source': '<a href=\"http://twitter.com/download/android\" rel=\"nofollow\">Twitter for Android</a>', 'in_reply_to_status_id': None, 'in_reply_to_status_id_str': None, 'in_reply_to_user_id': 708835308989714432, 'in_reply_to_user_id_str': '708835308989714432', 'in_reply_to_screen_name': 'USSupreme_Court', 'user': {'id': 1293449508941004800, 'id_str': '1293449508941004800', 'name': 'VN', 'screen_name': 'VN27927927', 'location': '', 'description': 'S2199120A.... my identity card number used by singapore govt for money laundering since the early 1980s', 'url': None, 'entities': {'description': {'urls': []}}, 'protected': False, 'followers_count': 1, 'friends_count': 0, 'listed_count': 0, 'created_at': 'Wed Aug 12 07:29:48 +0000 2020', 'favourites_count': 0, 'utc_offset': None, 'time_zone': None, 'geo_enabled': False, 'verified': False, 'statuses_count': 3073, 'lang': None, 'contributors_enabled': False, 'is_translator': False, 'is_translation_enabled': False, 'profile_background_color': 'F5F8FA', 'profile_background_image_url': None, 'profile_background_image_url_https': None, 'profile_background_tile': False, 'profile_image_url': 'http://pbs.twimg.com/profile_images/1293449998814699520/o61nCrkz_normal.jpg', 'profile_image_url_https': 'https://pbs.twimg.com/profile_images/1293449998814699520/o61nCrkz_normal.jpg', 'profile_link_color': '1DA1F2', 'profile_sidebar_border_color': 'C0DEED', 'profile_sidebar_fill_color': 'DDEEF6', 'profile_text_color': '333333', 'profile_use_background_image': True, 'has_extended_profile': False, 'default_profile': True, 'default_profile_image': False, 'following': False, 'follow_request_sent': False, 'notifications': False, 'translator_type': 'none'}, 'geo': None, 'coordinates': None, 'place': None, 'contributors': None, 'is_quote_status': False, 'retweet_count': 0, 'favorite_count': 0, 'favorited': False, 'retweeted': False, 'lang': 'en'}, created_at=datetime.datetime(2020, 11, 3, 5, 29, 43), id=1323497564625199104, id_str='1323497564625199104', full_text='@USSupreme_Court Arrests of all of the following OVERDUE\\nlee hsien loong \\nsingapore president\\nchief justice\\nattorney-general\\nlaw minister\\nhome affairs minister\\npolice commissioner\\nMany more......\\n\\nUS presidential election issues and more.', truncated=False, display_text_range=[0, 238], entities={'hashtags': [], 'symbols': [], 'user_mentions': [{'screen_name': 'USSupreme_Court', 'name': 'U.S. Supreme Court', 'id': 708835308989714432, 'id_str': '708835308989714432', 'indices': [0, 16]}], 'urls': []}, metadata={'iso_language_code': 'en', 'result_type': 'recent'}, source='Twitter for Android', source_url='http://twitter.com/download/android', in_reply_to_status_id=None, in_reply_to_status_id_str=None, in_reply_to_user_id=708835308989714432, in_reply_to_user_id_str='708835308989714432', in_reply_to_screen_name='USSupreme_Court', author=User(_api=<tweepy.api.API object at 0x0000017F1E571388>, _json={'id': 1293449508941004800, 'id_str': '1293449508941004800', 'name': 'VN', 'screen_name': 'VN27927927', 'location': '', 'description': 'S2199120A.... my identity card number used by singapore govt for money laundering since the early 1980s', 'url': None, 'entities': {'description': {'urls': []}}, 'protected': False, 'followers_count': 1, 'friends_count': 0, 'listed_count': 0, 'created_at': 'Wed Aug 12 07:29:48 +0000 2020', 'favourites_count': 0, 'utc_offset': None, 'time_zone': None, 'geo_enabled': False, 'verified': False, 'statuses_count': 3073, 'lang': None, 'contributors_enabled': False, 'is_translator': False, 'is_translation_enabled': False, 'profile_background_color': 'F5F8FA', 'profile_background_image_url': None, 'profile_background_image_url_https': None, 'profile_background_tile': False, 'profile_image_url': 'http://pbs.twimg.com/profile_images/1293449998814699520/o61nCrkz_normal.jpg', 'profile_image_url_https': 'https://pbs.twimg.com/profile_images/1293449998814699520/o61nCrkz_normal.jpg', 'profile_link_color': '1DA1F2', 'profile_sidebar_border_color': 'C0DEED', 'profile_sidebar_fill_color': 'DDEEF6', 'profile_text_color': '333333', 'profile_use_background_image': True, 'has_extended_profile': False, 'default_profile': True, 'default_profile_image': False, 'following': False, 'follow_request_sent': False, 'notifications': False, 'translator_type': 'none'}, id=1293449508941004800, id_str='1293449508941004800', name='VN', screen_name='VN27927927', location='', description='S2199120A.... my identity card number used by singapore govt for money laundering since the early 1980s', url=None, entities={'description': {'urls': []}}, protected=False, followers_count=1, friends_count=0, listed_count=0, created_at=datetime.datetime(2020, 8, 12, 7, 29, 48), favourites_count=0, utc_offset=None, time_zone=None, geo_enabled=False, verified=False, statuses_count=3073, lang=None, contributors_enabled=False, is_translator=False, is_translation_enabled=False, profile_background_color='F5F8FA', profile_background_image_url=None, profile_background_image_url_https=None, profile_background_tile=False, profile_image_url='http://pbs.twimg.com/profile_images/1293449998814699520/o61nCrkz_normal.jpg', profile_image_url_https='https://pbs.twimg.com/profile_images/1293449998814699520/o61nCrkz_normal.jpg', profile_link_color='1DA1F2', profile_sidebar_border_color='C0DEED', profile_sidebar_fill_color='DDEEF6', profile_text_color='333333', profile_use_background_image=True, has_extended_profile=False, default_profile=True, default_profile_image=False, following=False, follow_request_sent=False, notifications=False, translator_type='none'), user=User(_api=<tweepy.api.API object at 0x0000017F1E571388>, _json={'id': 1293449508941004800, 'id_str': '1293449508941004800', 'name': 'VN', 'screen_name': 'VN27927927', 'location': '', 'description': 'S2199120A.... my identity card number used by singapore govt for money laundering since the early 1980s', 'url': None, 'entities': {'description': {'urls': []}}, 'protected': False, 'followers_count': 1, 'friends_count': 0, 'listed_count': 0, 'created_at': 'Wed Aug 12 07:29:48 +0000 2020', 'favourites_count': 0, 'utc_offset': None, 'time_zone': None, 'geo_enabled': False, 'verified': False, 'statuses_count': 3073, 'lang': None, 'contributors_enabled': False, 'is_translator': False, 'is_translation_enabled': False, 'profile_background_color': 'F5F8FA', 'profile_background_image_url': None, 'profile_background_image_url_https': None, 'profile_background_tile': False, 'profile_image_url': 'http://pbs.twimg.com/profile_images/1293449998814699520/o61nCrkz_normal.jpg', 'profile_image_url_https': 'https://pbs.twimg.com/profile_images/1293449998814699520/o61nCrkz_normal.jpg', 'profile_link_color': '1DA1F2', 'profile_sidebar_border_color': 'C0DEED', 'profile_sidebar_fill_color': 'DDEEF6', 'profile_text_color': '333333', 'profile_use_background_image': True, 'has_extended_profile': False, 'default_profile': True, 'default_profile_image': False, 'following': False, 'follow_request_sent': False, 'notifications': False, 'translator_type': 'none'}, id=1293449508941004800, id_str='1293449508941004800', name='VN', screen_name='VN27927927', location='', description='S2199120A.... my identity card number used by singapore govt for money laundering since the early 1980s', url=None, entities={'description': {'urls': []}}, protected=False, followers_count=1, friends_count=0, listed_count=0, created_at=datetime.datetime(2020, 8, 12, 7, 29, 48), favourites_count=0, utc_offset=None, time_zone=None, geo_enabled=False, verified=False, statuses_count=3073, lang=None, contributors_enabled=False, is_translator=False, is_translation_enabled=False, profile_background_color='F5F8FA', profile_background_image_url=None, profile_background_image_url_https=None, profile_background_tile=False, profile_image_url='http://pbs.twimg.com/profile_images/1293449998814699520/o61nCrkz_normal.jpg', profile_image_url_https='https://pbs.twimg.com/profile_images/1293449998814699520/o61nCrkz_normal.jpg', profile_link_color='1DA1F2', profile_sidebar_border_color='C0DEED', profile_sidebar_fill_color='DDEEF6', profile_text_color='333333', profile_use_background_image=True, has_extended_profile=False, default_profile=True, default_profile_image=False, following=False, follow_request_sent=False, notifications=False, translator_type='none'), geo=None, coordinates=None, place=None, contributors=None, is_quote_status=False, retweet_count=0, favorite_count=0, favorited=False, retweeted=False, lang='en') \n",
      "\n",
      "******************************\n",
      "Status(_api=<tweepy.api.API object at 0x0000017F1E571388>, _json={'created_at': 'Tue Nov 03 05:29:40 +0000 2020', 'id': 1323497553762029568, 'id_str': '1323497553762029568', 'full_text': 'Nobel Laureate Michael Spence @amspence98 and David W Brady show why Joe #Biden is in a far better position - at least in opinion polls - than Hillary Clinton was in 2016 in their article in @ProSyn. https://t.co/Ml0mbulqu5 #USElection #Election2020 #Trump', 'truncated': False, 'display_text_range': [0, 256], 'entities': {'hashtags': [{'text': 'Biden', 'indices': [73, 79]}, {'text': 'USElection', 'indices': [224, 235]}, {'text': 'Election2020', 'indices': [236, 249]}, {'text': 'Trump', 'indices': [250, 256]}], 'symbols': [], 'user_mentions': [{'screen_name': 'amspence98', 'name': 'Michael Spence', 'id': 36132639, 'id_str': '36132639', 'indices': [30, 41]}, {'screen_name': 'ProSyn', 'name': 'Project Syndicate', 'id': 46671396, 'id_str': '46671396', 'indices': [191, 198]}], 'urls': [{'url': 'https://t.co/Ml0mbulqu5', 'expanded_url': 'https://bit.ly/2HYB2kp', 'display_url': 'bit.ly/2HYB2kp', 'indices': [200, 223]}]}, 'metadata': {'iso_language_code': 'en', 'result_type': 'recent'}, 'source': '<a href=\"https://ads-api.twitter.com\" rel=\"nofollow\">Twitter for Advertisers (legacy)</a>', 'in_reply_to_status_id': None, 'in_reply_to_status_id_str': None, 'in_reply_to_user_id': None, 'in_reply_to_user_id_str': None, 'in_reply_to_screen_name': None, 'user': {'id': 364671445, 'id_str': '364671445', 'name': 'Asia Global Institute', 'screen_name': 'AsiaGInstitute', 'location': 'Hong Kong', 'description': 'The Asia Global Institute generates and disseminates innovative thinking, and business-relevant research on global issues from Asian perspectives.', 'url': 'https://t.co/JVaKvXCKlV', 'entities': {'url': {'urls': [{'url': 'https://t.co/JVaKvXCKlV', 'expanded_url': 'https://www.asiaglobalinstitute.hku.hk/', 'display_url': 'asiaglobalinstitute.hku.hk', 'indices': [0, 23]}]}, 'description': {'urls': []}}, 'protected': False, 'followers_count': 2003, 'friends_count': 553, 'listed_count': 71, 'created_at': 'Tue Aug 30 04:04:47 +0000 2011', 'favourites_count': 820, 'utc_offset': None, 'time_zone': None, 'geo_enabled': False, 'verified': False, 'statuses_count': 5413, 'lang': None, 'contributors_enabled': False, 'is_translator': False, 'is_translation_enabled': False, 'profile_background_color': '000000', 'profile_background_image_url': 'http://abs.twimg.com/images/themes/theme1/bg.png', 'profile_background_image_url_https': 'https://abs.twimg.com/images/themes/theme1/bg.png', 'profile_background_tile': False, 'profile_image_url': 'http://pbs.twimg.com/profile_images/937897697633214464/gDfQ7LYL_normal.jpg', 'profile_image_url_https': 'https://pbs.twimg.com/profile_images/937897697633214464/gDfQ7LYL_normal.jpg', 'profile_banner_url': 'https://pbs.twimg.com/profile_banners/364671445/1570074049', 'profile_link_color': 'ABB8C2', 'profile_sidebar_border_color': 'FFFFFF', 'profile_sidebar_fill_color': 'DDEEF6', 'profile_text_color': '333333', 'profile_use_background_image': True, 'has_extended_profile': False, 'default_profile': False, 'default_profile_image': False, 'following': False, 'follow_request_sent': False, 'notifications': False, 'translator_type': 'none'}, 'geo': None, 'coordinates': None, 'place': None, 'contributors': None, 'is_quote_status': False, 'retweet_count': 0, 'favorite_count': 0, 'favorited': False, 'retweeted': False, 'possibly_sensitive': False, 'lang': 'en'}, created_at=datetime.datetime(2020, 11, 3, 5, 29, 40), id=1323497553762029568, id_str='1323497553762029568', full_text='Nobel Laureate Michael Spence @amspence98 and David W Brady show why Joe #Biden is in a far better position - at least in opinion polls - than Hillary Clinton was in 2016 in their article in @ProSyn. https://t.co/Ml0mbulqu5 #USElection #Election2020 #Trump', truncated=False, display_text_range=[0, 256], entities={'hashtags': [{'text': 'Biden', 'indices': [73, 79]}, {'text': 'USElection', 'indices': [224, 235]}, {'text': 'Election2020', 'indices': [236, 249]}, {'text': 'Trump', 'indices': [250, 256]}], 'symbols': [], 'user_mentions': [{'screen_name': 'amspence98', 'name': 'Michael Spence', 'id': 36132639, 'id_str': '36132639', 'indices': [30, 41]}, {'screen_name': 'ProSyn', 'name': 'Project Syndicate', 'id': 46671396, 'id_str': '46671396', 'indices': [191, 198]}], 'urls': [{'url': 'https://t.co/Ml0mbulqu5', 'expanded_url': 'https://bit.ly/2HYB2kp', 'display_url': 'bit.ly/2HYB2kp', 'indices': [200, 223]}]}, metadata={'iso_language_code': 'en', 'result_type': 'recent'}, source='Twitter for Advertisers (legacy)', source_url='https://ads-api.twitter.com', in_reply_to_status_id=None, in_reply_to_status_id_str=None, in_reply_to_user_id=None, in_reply_to_user_id_str=None, in_reply_to_screen_name=None, author=User(_api=<tweepy.api.API object at 0x0000017F1E571388>, _json={'id': 364671445, 'id_str': '364671445', 'name': 'Asia Global Institute', 'screen_name': 'AsiaGInstitute', 'location': 'Hong Kong', 'description': 'The Asia Global Institute generates and disseminates innovative thinking, and business-relevant research on global issues from Asian perspectives.', 'url': 'https://t.co/JVaKvXCKlV', 'entities': {'url': {'urls': [{'url': 'https://t.co/JVaKvXCKlV', 'expanded_url': 'https://www.asiaglobalinstitute.hku.hk/', 'display_url': 'asiaglobalinstitute.hku.hk', 'indices': [0, 23]}]}, 'description': {'urls': []}}, 'protected': False, 'followers_count': 2003, 'friends_count': 553, 'listed_count': 71, 'created_at': 'Tue Aug 30 04:04:47 +0000 2011', 'favourites_count': 820, 'utc_offset': None, 'time_zone': None, 'geo_enabled': False, 'verified': False, 'statuses_count': 5413, 'lang': None, 'contributors_enabled': False, 'is_translator': False, 'is_translation_enabled': False, 'profile_background_color': '000000', 'profile_background_image_url': 'http://abs.twimg.com/images/themes/theme1/bg.png', 'profile_background_image_url_https': 'https://abs.twimg.com/images/themes/theme1/bg.png', 'profile_background_tile': False, 'profile_image_url': 'http://pbs.twimg.com/profile_images/937897697633214464/gDfQ7LYL_normal.jpg', 'profile_image_url_https': 'https://pbs.twimg.com/profile_images/937897697633214464/gDfQ7LYL_normal.jpg', 'profile_banner_url': 'https://pbs.twimg.com/profile_banners/364671445/1570074049', 'profile_link_color': 'ABB8C2', 'profile_sidebar_border_color': 'FFFFFF', 'profile_sidebar_fill_color': 'DDEEF6', 'profile_text_color': '333333', 'profile_use_background_image': True, 'has_extended_profile': False, 'default_profile': False, 'default_profile_image': False, 'following': False, 'follow_request_sent': False, 'notifications': False, 'translator_type': 'none'}, id=364671445, id_str='364671445', name='Asia Global Institute', screen_name='AsiaGInstitute', location='Hong Kong', description='The Asia Global Institute generates and disseminates innovative thinking, and business-relevant research on global issues from Asian perspectives.', url='https://t.co/JVaKvXCKlV', entities={'url': {'urls': [{'url': 'https://t.co/JVaKvXCKlV', 'expanded_url': 'https://www.asiaglobalinstitute.hku.hk/', 'display_url': 'asiaglobalinstitute.hku.hk', 'indices': [0, 23]}]}, 'description': {'urls': []}}, protected=False, followers_count=2003, friends_count=553, listed_count=71, created_at=datetime.datetime(2011, 8, 30, 4, 4, 47), favourites_count=820, utc_offset=None, time_zone=None, geo_enabled=False, verified=False, statuses_count=5413, lang=None, contributors_enabled=False, is_translator=False, is_translation_enabled=False, profile_background_color='000000', profile_background_image_url='http://abs.twimg.com/images/themes/theme1/bg.png', profile_background_image_url_https='https://abs.twimg.com/images/themes/theme1/bg.png', profile_background_tile=False, profile_image_url='http://pbs.twimg.com/profile_images/937897697633214464/gDfQ7LYL_normal.jpg', profile_image_url_https='https://pbs.twimg.com/profile_images/937897697633214464/gDfQ7LYL_normal.jpg', profile_banner_url='https://pbs.twimg.com/profile_banners/364671445/1570074049', profile_link_color='ABB8C2', profile_sidebar_border_color='FFFFFF', profile_sidebar_fill_color='DDEEF6', profile_text_color='333333', profile_use_background_image=True, has_extended_profile=False, default_profile=False, default_profile_image=False, following=False, follow_request_sent=False, notifications=False, translator_type='none'), user=User(_api=<tweepy.api.API object at 0x0000017F1E571388>, _json={'id': 364671445, 'id_str': '364671445', 'name': 'Asia Global Institute', 'screen_name': 'AsiaGInstitute', 'location': 'Hong Kong', 'description': 'The Asia Global Institute generates and disseminates innovative thinking, and business-relevant research on global issues from Asian perspectives.', 'url': 'https://t.co/JVaKvXCKlV', 'entities': {'url': {'urls': [{'url': 'https://t.co/JVaKvXCKlV', 'expanded_url': 'https://www.asiaglobalinstitute.hku.hk/', 'display_url': 'asiaglobalinstitute.hku.hk', 'indices': [0, 23]}]}, 'description': {'urls': []}}, 'protected': False, 'followers_count': 2003, 'friends_count': 553, 'listed_count': 71, 'created_at': 'Tue Aug 30 04:04:47 +0000 2011', 'favourites_count': 820, 'utc_offset': None, 'time_zone': None, 'geo_enabled': False, 'verified': False, 'statuses_count': 5413, 'lang': None, 'contributors_enabled': False, 'is_translator': False, 'is_translation_enabled': False, 'profile_background_color': '000000', 'profile_background_image_url': 'http://abs.twimg.com/images/themes/theme1/bg.png', 'profile_background_image_url_https': 'https://abs.twimg.com/images/themes/theme1/bg.png', 'profile_background_tile': False, 'profile_image_url': 'http://pbs.twimg.com/profile_images/937897697633214464/gDfQ7LYL_normal.jpg', 'profile_image_url_https': 'https://pbs.twimg.com/profile_images/937897697633214464/gDfQ7LYL_normal.jpg', 'profile_banner_url': 'https://pbs.twimg.com/profile_banners/364671445/1570074049', 'profile_link_color': 'ABB8C2', 'profile_sidebar_border_color': 'FFFFFF', 'profile_sidebar_fill_color': 'DDEEF6', 'profile_text_color': '333333', 'profile_use_background_image': True, 'has_extended_profile': False, 'default_profile': False, 'default_profile_image': False, 'following': False, 'follow_request_sent': False, 'notifications': False, 'translator_type': 'none'}, id=364671445, id_str='364671445', name='Asia Global Institute', screen_name='AsiaGInstitute', location='Hong Kong', description='The Asia Global Institute generates and disseminates innovative thinking, and business-relevant research on global issues from Asian perspectives.', url='https://t.co/JVaKvXCKlV', entities={'url': {'urls': [{'url': 'https://t.co/JVaKvXCKlV', 'expanded_url': 'https://www.asiaglobalinstitute.hku.hk/', 'display_url': 'asiaglobalinstitute.hku.hk', 'indices': [0, 23]}]}, 'description': {'urls': []}}, protected=False, followers_count=2003, friends_count=553, listed_count=71, created_at=datetime.datetime(2011, 8, 30, 4, 4, 47), favourites_count=820, utc_offset=None, time_zone=None, geo_enabled=False, verified=False, statuses_count=5413, lang=None, contributors_enabled=False, is_translator=False, is_translation_enabled=False, profile_background_color='000000', profile_background_image_url='http://abs.twimg.com/images/themes/theme1/bg.png', profile_background_image_url_https='https://abs.twimg.com/images/themes/theme1/bg.png', profile_background_tile=False, profile_image_url='http://pbs.twimg.com/profile_images/937897697633214464/gDfQ7LYL_normal.jpg', profile_image_url_https='https://pbs.twimg.com/profile_images/937897697633214464/gDfQ7LYL_normal.jpg', profile_banner_url='https://pbs.twimg.com/profile_banners/364671445/1570074049', profile_link_color='ABB8C2', profile_sidebar_border_color='FFFFFF', profile_sidebar_fill_color='DDEEF6', profile_text_color='333333', profile_use_background_image=True, has_extended_profile=False, default_profile=False, default_profile_image=False, following=False, follow_request_sent=False, notifications=False, translator_type='none'), geo=None, coordinates=None, place=None, contributors=None, is_quote_status=False, retweet_count=0, favorite_count=0, favorited=False, retweeted=False, possibly_sensitive=False, lang='en') \n",
      "\n",
      "******************************\n",
      "Status(_api=<tweepy.api.API object at 0x0000017F1E571388>, _json={'created_at': 'Tue Nov 03 05:29:23 +0000 2020', 'id': 1323497481364103168, 'id_str': '1323497481364103168', 'full_text': \"@realDonaldTrump @JoeBiden @CamilleElemia @carmelafonbuena @chayhofilena On the eve of US Election Day in the US, the political conversation is dominated by doomsday scenarios about what may happen when Trump refuses to accept the outcome if he doesn't win. #Elections2020 #USVote #Vote \\n\\n#ElectionDay LIVE UPDATES AND RESULTS: https://t.co/hkecqUvRHM https://t.co/4hmjq09722\", 'truncated': False, 'display_text_range': [73, 351], 'entities': {'hashtags': [{'text': 'Elections2020', 'indices': [258, 272]}, {'text': 'USVote', 'indices': [273, 280]}, {'text': 'Vote', 'indices': [281, 286]}, {'text': 'ElectionDay', 'indices': [289, 301]}], 'symbols': [], 'user_mentions': [{'screen_name': 'realDonaldTrump', 'name': 'Donald J. Trump', 'id': 25073877, 'id_str': '25073877', 'indices': [0, 16]}, {'screen_name': 'JoeBiden', 'name': 'Joe Biden', 'id': 939091, 'id_str': '939091', 'indices': [17, 26]}, {'screen_name': 'CamilleElemia', 'name': 'Camille Elemia', 'id': 209126338, 'id_str': '209126338', 'indices': [27, 41]}, {'screen_name': 'carmelafonbuena', 'name': 'Carmela Fonbuena', 'id': 407405188, 'id_str': '407405188', 'indices': [42, 58]}, {'screen_name': 'chayhofilena', 'name': 'Chay Hofileña', 'id': 35734925, 'id_str': '35734925', 'indices': [59, 72]}], 'urls': [{'url': 'https://t.co/hkecqUvRHM', 'expanded_url': 'http://rplr.co/usvote2020', 'display_url': 'rplr.co/usvote2020', 'indices': [328, 351]}], 'media': [{'id': 1323497278758252545, 'id_str': '1323497278758252545', 'indices': [352, 375], 'media_url': 'http://pbs.twimg.com/media/El4Bw0mU8AEYmuj.png', 'media_url_https': 'https://pbs.twimg.com/media/El4Bw0mU8AEYmuj.png', 'url': 'https://t.co/4hmjq09722', 'display_url': 'pic.twitter.com/4hmjq09722', 'expanded_url': 'https://twitter.com/rapplerdotcom/status/1323497481364103168/photo/1', 'type': 'photo', 'sizes': {'small': {'w': 496, 'h': 544, 'resize': 'fit'}, 'large': {'w': 496, 'h': 544, 'resize': 'fit'}, 'medium': {'w': 496, 'h': 544, 'resize': 'fit'}, 'thumb': {'w': 150, 'h': 150, 'resize': 'crop'}}}]}, 'extended_entities': {'media': [{'id': 1323497278758252545, 'id_str': '1323497278758252545', 'indices': [352, 375], 'media_url': 'http://pbs.twimg.com/media/El4Bw0mU8AEYmuj.png', 'media_url_https': 'https://pbs.twimg.com/media/El4Bw0mU8AEYmuj.png', 'url': 'https://t.co/4hmjq09722', 'display_url': 'pic.twitter.com/4hmjq09722', 'expanded_url': 'https://twitter.com/rapplerdotcom/status/1323497481364103168/photo/1', 'type': 'photo', 'sizes': {'small': {'w': 496, 'h': 544, 'resize': 'fit'}, 'large': {'w': 496, 'h': 544, 'resize': 'fit'}, 'medium': {'w': 496, 'h': 544, 'resize': 'fit'}, 'thumb': {'w': 150, 'h': 150, 'resize': 'crop'}}}]}, 'metadata': {'iso_language_code': 'en', 'result_type': 'recent'}, 'source': '<a href=\"https://about.twitter.com/products/tweetdeck\" rel=\"nofollow\">TweetDeck</a>', 'in_reply_to_status_id': 1323495960295600129, 'in_reply_to_status_id_str': '1323495960295600129', 'in_reply_to_user_id': 330826792, 'in_reply_to_user_id_str': '330826792', 'in_reply_to_screen_name': 'rapplerdotcom', 'user': {'id': 330826792, 'id_str': '330826792', 'name': 'Rappler', 'screen_name': 'rapplerdotcom', 'location': 'Philippines', 'description': 'The Social News Network. Uncompromised journalism that inspires smart conversations and a thirst for change.', 'url': 'https://t.co/tz2uMgi2kb', 'entities': {'url': {'urls': [{'url': 'https://t.co/tz2uMgi2kb', 'expanded_url': 'http://www.rappler.com', 'display_url': 'rappler.com', 'indices': [0, 23]}]}, 'description': {'urls': []}}, 'protected': False, 'followers_count': 3377221, 'friends_count': 403, 'listed_count': 4122, 'created_at': 'Thu Jul 07 06:34:10 +0000 2011', 'favourites_count': 8025, 'utc_offset': None, 'time_zone': None, 'geo_enabled': True, 'verified': True, 'statuses_count': 724951, 'lang': None, 'contributors_enabled': False, 'is_translator': False, 'is_translation_enabled': False, 'profile_background_color': '222930', 'profile_background_image_url': 'http://abs.twimg.com/images/themes/theme16/bg.gif', 'profile_background_image_url_https': 'https://abs.twimg.com/images/themes/theme16/bg.gif', 'profile_background_tile': False, 'profile_image_url': 'http://pbs.twimg.com/profile_images/1282723244357718016/9ptRK0X1_normal.jpg', 'profile_image_url_https': 'https://pbs.twimg.com/profile_images/1282723244357718016/9ptRK0X1_normal.jpg', 'profile_banner_url': 'https://pbs.twimg.com/profile_banners/330826792/1604331994', 'profile_link_color': 'E76229', 'profile_sidebar_border_color': '000000', 'profile_sidebar_fill_color': 'DDFFCC', 'profile_text_color': '333333', 'profile_use_background_image': True, 'has_extended_profile': True, 'default_profile': False, 'default_profile_image': False, 'following': False, 'follow_request_sent': False, 'notifications': False, 'translator_type': 'regular'}, 'geo': None, 'coordinates': None, 'place': None, 'contributors': None, 'is_quote_status': False, 'retweet_count': 1, 'favorite_count': 1, 'favorited': False, 'retweeted': False, 'possibly_sensitive': False, 'lang': 'en'}, created_at=datetime.datetime(2020, 11, 3, 5, 29, 23), id=1323497481364103168, id_str='1323497481364103168', full_text=\"@realDonaldTrump @JoeBiden @CamilleElemia @carmelafonbuena @chayhofilena On the eve of US Election Day in the US, the political conversation is dominated by doomsday scenarios about what may happen when Trump refuses to accept the outcome if he doesn't win. #Elections2020 #USVote #Vote \\n\\n#ElectionDay LIVE UPDATES AND RESULTS: https://t.co/hkecqUvRHM https://t.co/4hmjq09722\", truncated=False, display_text_range=[73, 351], entities={'hashtags': [{'text': 'Elections2020', 'indices': [258, 272]}, {'text': 'USVote', 'indices': [273, 280]}, {'text': 'Vote', 'indices': [281, 286]}, {'text': 'ElectionDay', 'indices': [289, 301]}], 'symbols': [], 'user_mentions': [{'screen_name': 'realDonaldTrump', 'name': 'Donald J. Trump', 'id': 25073877, 'id_str': '25073877', 'indices': [0, 16]}, {'screen_name': 'JoeBiden', 'name': 'Joe Biden', 'id': 939091, 'id_str': '939091', 'indices': [17, 26]}, {'screen_name': 'CamilleElemia', 'name': 'Camille Elemia', 'id': 209126338, 'id_str': '209126338', 'indices': [27, 41]}, {'screen_name': 'carmelafonbuena', 'name': 'Carmela Fonbuena', 'id': 407405188, 'id_str': '407405188', 'indices': [42, 58]}, {'screen_name': 'chayhofilena', 'name': 'Chay Hofileña', 'id': 35734925, 'id_str': '35734925', 'indices': [59, 72]}], 'urls': [{'url': 'https://t.co/hkecqUvRHM', 'expanded_url': 'http://rplr.co/usvote2020', 'display_url': 'rplr.co/usvote2020', 'indices': [328, 351]}], 'media': [{'id': 1323497278758252545, 'id_str': '1323497278758252545', 'indices': [352, 375], 'media_url': 'http://pbs.twimg.com/media/El4Bw0mU8AEYmuj.png', 'media_url_https': 'https://pbs.twimg.com/media/El4Bw0mU8AEYmuj.png', 'url': 'https://t.co/4hmjq09722', 'display_url': 'pic.twitter.com/4hmjq09722', 'expanded_url': 'https://twitter.com/rapplerdotcom/status/1323497481364103168/photo/1', 'type': 'photo', 'sizes': {'small': {'w': 496, 'h': 544, 'resize': 'fit'}, 'large': {'w': 496, 'h': 544, 'resize': 'fit'}, 'medium': {'w': 496, 'h': 544, 'resize': 'fit'}, 'thumb': {'w': 150, 'h': 150, 'resize': 'crop'}}}]}, extended_entities={'media': [{'id': 1323497278758252545, 'id_str': '1323497278758252545', 'indices': [352, 375], 'media_url': 'http://pbs.twimg.com/media/El4Bw0mU8AEYmuj.png', 'media_url_https': 'https://pbs.twimg.com/media/El4Bw0mU8AEYmuj.png', 'url': 'https://t.co/4hmjq09722', 'display_url': 'pic.twitter.com/4hmjq09722', 'expanded_url': 'https://twitter.com/rapplerdotcom/status/1323497481364103168/photo/1', 'type': 'photo', 'sizes': {'small': {'w': 496, 'h': 544, 'resize': 'fit'}, 'large': {'w': 496, 'h': 544, 'resize': 'fit'}, 'medium': {'w': 496, 'h': 544, 'resize': 'fit'}, 'thumb': {'w': 150, 'h': 150, 'resize': 'crop'}}}]}, metadata={'iso_language_code': 'en', 'result_type': 'recent'}, source='TweetDeck', source_url='https://about.twitter.com/products/tweetdeck', in_reply_to_status_id=1323495960295600129, in_reply_to_status_id_str='1323495960295600129', in_reply_to_user_id=330826792, in_reply_to_user_id_str='330826792', in_reply_to_screen_name='rapplerdotcom', author=User(_api=<tweepy.api.API object at 0x0000017F1E571388>, _json={'id': 330826792, 'id_str': '330826792', 'name': 'Rappler', 'screen_name': 'rapplerdotcom', 'location': 'Philippines', 'description': 'The Social News Network. Uncompromised journalism that inspires smart conversations and a thirst for change.', 'url': 'https://t.co/tz2uMgi2kb', 'entities': {'url': {'urls': [{'url': 'https://t.co/tz2uMgi2kb', 'expanded_url': 'http://www.rappler.com', 'display_url': 'rappler.com', 'indices': [0, 23]}]}, 'description': {'urls': []}}, 'protected': False, 'followers_count': 3377221, 'friends_count': 403, 'listed_count': 4122, 'created_at': 'Thu Jul 07 06:34:10 +0000 2011', 'favourites_count': 8025, 'utc_offset': None, 'time_zone': None, 'geo_enabled': True, 'verified': True, 'statuses_count': 724951, 'lang': None, 'contributors_enabled': False, 'is_translator': False, 'is_translation_enabled': False, 'profile_background_color': '222930', 'profile_background_image_url': 'http://abs.twimg.com/images/themes/theme16/bg.gif', 'profile_background_image_url_https': 'https://abs.twimg.com/images/themes/theme16/bg.gif', 'profile_background_tile': False, 'profile_image_url': 'http://pbs.twimg.com/profile_images/1282723244357718016/9ptRK0X1_normal.jpg', 'profile_image_url_https': 'https://pbs.twimg.com/profile_images/1282723244357718016/9ptRK0X1_normal.jpg', 'profile_banner_url': 'https://pbs.twimg.com/profile_banners/330826792/1604331994', 'profile_link_color': 'E76229', 'profile_sidebar_border_color': '000000', 'profile_sidebar_fill_color': 'DDFFCC', 'profile_text_color': '333333', 'profile_use_background_image': True, 'has_extended_profile': True, 'default_profile': False, 'default_profile_image': False, 'following': False, 'follow_request_sent': False, 'notifications': False, 'translator_type': 'regular'}, id=330826792, id_str='330826792', name='Rappler', screen_name='rapplerdotcom', location='Philippines', description='The Social News Network. Uncompromised journalism that inspires smart conversations and a thirst for change.', url='https://t.co/tz2uMgi2kb', entities={'url': {'urls': [{'url': 'https://t.co/tz2uMgi2kb', 'expanded_url': 'http://www.rappler.com', 'display_url': 'rappler.com', 'indices': [0, 23]}]}, 'description': {'urls': []}}, protected=False, followers_count=3377221, friends_count=403, listed_count=4122, created_at=datetime.datetime(2011, 7, 7, 6, 34, 10), favourites_count=8025, utc_offset=None, time_zone=None, geo_enabled=True, verified=True, statuses_count=724951, lang=None, contributors_enabled=False, is_translator=False, is_translation_enabled=False, profile_background_color='222930', profile_background_image_url='http://abs.twimg.com/images/themes/theme16/bg.gif', profile_background_image_url_https='https://abs.twimg.com/images/themes/theme16/bg.gif', profile_background_tile=False, profile_image_url='http://pbs.twimg.com/profile_images/1282723244357718016/9ptRK0X1_normal.jpg', profile_image_url_https='https://pbs.twimg.com/profile_images/1282723244357718016/9ptRK0X1_normal.jpg', profile_banner_url='https://pbs.twimg.com/profile_banners/330826792/1604331994', profile_link_color='E76229', profile_sidebar_border_color='000000', profile_sidebar_fill_color='DDFFCC', profile_text_color='333333', profile_use_background_image=True, has_extended_profile=True, default_profile=False, default_profile_image=False, following=False, follow_request_sent=False, notifications=False, translator_type='regular'), user=User(_api=<tweepy.api.API object at 0x0000017F1E571388>, _json={'id': 330826792, 'id_str': '330826792', 'name': 'Rappler', 'screen_name': 'rapplerdotcom', 'location': 'Philippines', 'description': 'The Social News Network. Uncompromised journalism that inspires smart conversations and a thirst for change.', 'url': 'https://t.co/tz2uMgi2kb', 'entities': {'url': {'urls': [{'url': 'https://t.co/tz2uMgi2kb', 'expanded_url': 'http://www.rappler.com', 'display_url': 'rappler.com', 'indices': [0, 23]}]}, 'description': {'urls': []}}, 'protected': False, 'followers_count': 3377221, 'friends_count': 403, 'listed_count': 4122, 'created_at': 'Thu Jul 07 06:34:10 +0000 2011', 'favourites_count': 8025, 'utc_offset': None, 'time_zone': None, 'geo_enabled': True, 'verified': True, 'statuses_count': 724951, 'lang': None, 'contributors_enabled': False, 'is_translator': False, 'is_translation_enabled': False, 'profile_background_color': '222930', 'profile_background_image_url': 'http://abs.twimg.com/images/themes/theme16/bg.gif', 'profile_background_image_url_https': 'https://abs.twimg.com/images/themes/theme16/bg.gif', 'profile_background_tile': False, 'profile_image_url': 'http://pbs.twimg.com/profile_images/1282723244357718016/9ptRK0X1_normal.jpg', 'profile_image_url_https': 'https://pbs.twimg.com/profile_images/1282723244357718016/9ptRK0X1_normal.jpg', 'profile_banner_url': 'https://pbs.twimg.com/profile_banners/330826792/1604331994', 'profile_link_color': 'E76229', 'profile_sidebar_border_color': '000000', 'profile_sidebar_fill_color': 'DDFFCC', 'profile_text_color': '333333', 'profile_use_background_image': True, 'has_extended_profile': True, 'default_profile': False, 'default_profile_image': False, 'following': False, 'follow_request_sent': False, 'notifications': False, 'translator_type': 'regular'}, id=330826792, id_str='330826792', name='Rappler', screen_name='rapplerdotcom', location='Philippines', description='The Social News Network. Uncompromised journalism that inspires smart conversations and a thirst for change.', url='https://t.co/tz2uMgi2kb', entities={'url': {'urls': [{'url': 'https://t.co/tz2uMgi2kb', 'expanded_url': 'http://www.rappler.com', 'display_url': 'rappler.com', 'indices': [0, 23]}]}, 'description': {'urls': []}}, protected=False, followers_count=3377221, friends_count=403, listed_count=4122, created_at=datetime.datetime(2011, 7, 7, 6, 34, 10), favourites_count=8025, utc_offset=None, time_zone=None, geo_enabled=True, verified=True, statuses_count=724951, lang=None, contributors_enabled=False, is_translator=False, is_translation_enabled=False, profile_background_color='222930', profile_background_image_url='http://abs.twimg.com/images/themes/theme16/bg.gif', profile_background_image_url_https='https://abs.twimg.com/images/themes/theme16/bg.gif', profile_background_tile=False, profile_image_url='http://pbs.twimg.com/profile_images/1282723244357718016/9ptRK0X1_normal.jpg', profile_image_url_https='https://pbs.twimg.com/profile_images/1282723244357718016/9ptRK0X1_normal.jpg', profile_banner_url='https://pbs.twimg.com/profile_banners/330826792/1604331994', profile_link_color='E76229', profile_sidebar_border_color='000000', profile_sidebar_fill_color='DDFFCC', profile_text_color='333333', profile_use_background_image=True, has_extended_profile=True, default_profile=False, default_profile_image=False, following=False, follow_request_sent=False, notifications=False, translator_type='regular'), geo=None, coordinates=None, place=None, contributors=None, is_quote_status=False, retweet_count=1, favorite_count=1, favorited=False, retweeted=False, possibly_sensitive=False, lang='en') \n",
      "\n",
      "******************************\n",
      "Status(_api=<tweepy.api.API object at 0x0000017F1E571388>, _json={'created_at': 'Tue Nov 03 05:29:22 +0000 2020', 'id': 1323497476243001348, 'id_str': '1323497476243001348', 'full_text': '“The race is too close to call” Biden vs Trump: US presidential election poll tracker https://t.co/eFJIoyzgLX vía @FinancialTimes', 'truncated': False, 'display_text_range': [0, 129], 'entities': {'hashtags': [], 'symbols': [], 'user_mentions': [{'screen_name': 'FinancialTimes', 'name': 'Financial Times', 'id': 4898091, 'id_str': '4898091', 'indices': [114, 129]}], 'urls': [{'url': 'https://t.co/eFJIoyzgLX', 'expanded_url': 'https://ig.ft.com/us-election-2020/', 'display_url': 'ig.ft.com/us-election-20…', 'indices': [86, 109]}]}, 'metadata': {'iso_language_code': 'en', 'result_type': 'recent'}, 'source': '<a href=\"http://twitter.com/download/iphone\" rel=\"nofollow\">Twitter for iPhone</a>', 'in_reply_to_status_id': None, 'in_reply_to_status_id_str': None, 'in_reply_to_user_id': None, 'in_reply_to_user_id_str': None, 'in_reply_to_screen_name': None, 'user': {'id': 47230317, 'id_str': '47230317', 'name': 'Corina Rodriguez', 'screen_name': 'Coropo', 'location': 'ÜT: 10.489782,-66.862267', 'description': 'Venezuelan journalist covering eco/gov news from Caracas. Any opinions are my own, RTs are not endorsments.', 'url': None, 'entities': {'description': {'urls': []}}, 'protected': False, 'followers_count': 9201, 'friends_count': 2069, 'listed_count': 269, 'created_at': 'Mon Jun 15 01:54:04 +0000 2009', 'favourites_count': 610, 'utc_offset': None, 'time_zone': None, 'geo_enabled': True, 'verified': False, 'statuses_count': 10122, 'lang': None, 'contributors_enabled': False, 'is_translator': False, 'is_translation_enabled': False, 'profile_background_color': 'EBA4C3', 'profile_background_image_url': 'http://abs.twimg.com/images/themes/theme17/bg.gif', 'profile_background_image_url_https': 'https://abs.twimg.com/images/themes/theme17/bg.gif', 'profile_background_tile': False, 'profile_image_url': 'http://pbs.twimg.com/profile_images/1313122899679752194/FeaNCdj7_normal.jpg', 'profile_image_url_https': 'https://pbs.twimg.com/profile_images/1313122899679752194/FeaNCdj7_normal.jpg', 'profile_banner_url': 'https://pbs.twimg.com/profile_banners/47230317/1533854686', 'profile_link_color': 'E026C1', 'profile_sidebar_border_color': 'FFFFFF', 'profile_sidebar_fill_color': 'E6F6F9', 'profile_text_color': '333333', 'profile_use_background_image': True, 'has_extended_profile': True, 'default_profile': False, 'default_profile_image': False, 'following': False, 'follow_request_sent': False, 'notifications': False, 'translator_type': 'none'}, 'geo': None, 'coordinates': None, 'place': None, 'contributors': None, 'is_quote_status': False, 'retweet_count': 0, 'favorite_count': 0, 'favorited': False, 'retweeted': False, 'possibly_sensitive': False, 'lang': 'en'}, created_at=datetime.datetime(2020, 11, 3, 5, 29, 22), id=1323497476243001348, id_str='1323497476243001348', full_text='“The race is too close to call” Biden vs Trump: US presidential election poll tracker https://t.co/eFJIoyzgLX vía @FinancialTimes', truncated=False, display_text_range=[0, 129], entities={'hashtags': [], 'symbols': [], 'user_mentions': [{'screen_name': 'FinancialTimes', 'name': 'Financial Times', 'id': 4898091, 'id_str': '4898091', 'indices': [114, 129]}], 'urls': [{'url': 'https://t.co/eFJIoyzgLX', 'expanded_url': 'https://ig.ft.com/us-election-2020/', 'display_url': 'ig.ft.com/us-election-20…', 'indices': [86, 109]}]}, metadata={'iso_language_code': 'en', 'result_type': 'recent'}, source='Twitter for iPhone', source_url='http://twitter.com/download/iphone', in_reply_to_status_id=None, in_reply_to_status_id_str=None, in_reply_to_user_id=None, in_reply_to_user_id_str=None, in_reply_to_screen_name=None, author=User(_api=<tweepy.api.API object at 0x0000017F1E571388>, _json={'id': 47230317, 'id_str': '47230317', 'name': 'Corina Rodriguez', 'screen_name': 'Coropo', 'location': 'ÜT: 10.489782,-66.862267', 'description': 'Venezuelan journalist covering eco/gov news from Caracas. Any opinions are my own, RTs are not endorsments.', 'url': None, 'entities': {'description': {'urls': []}}, 'protected': False, 'followers_count': 9201, 'friends_count': 2069, 'listed_count': 269, 'created_at': 'Mon Jun 15 01:54:04 +0000 2009', 'favourites_count': 610, 'utc_offset': None, 'time_zone': None, 'geo_enabled': True, 'verified': False, 'statuses_count': 10122, 'lang': None, 'contributors_enabled': False, 'is_translator': False, 'is_translation_enabled': False, 'profile_background_color': 'EBA4C3', 'profile_background_image_url': 'http://abs.twimg.com/images/themes/theme17/bg.gif', 'profile_background_image_url_https': 'https://abs.twimg.com/images/themes/theme17/bg.gif', 'profile_background_tile': False, 'profile_image_url': 'http://pbs.twimg.com/profile_images/1313122899679752194/FeaNCdj7_normal.jpg', 'profile_image_url_https': 'https://pbs.twimg.com/profile_images/1313122899679752194/FeaNCdj7_normal.jpg', 'profile_banner_url': 'https://pbs.twimg.com/profile_banners/47230317/1533854686', 'profile_link_color': 'E026C1', 'profile_sidebar_border_color': 'FFFFFF', 'profile_sidebar_fill_color': 'E6F6F9', 'profile_text_color': '333333', 'profile_use_background_image': True, 'has_extended_profile': True, 'default_profile': False, 'default_profile_image': False, 'following': False, 'follow_request_sent': False, 'notifications': False, 'translator_type': 'none'}, id=47230317, id_str='47230317', name='Corina Rodriguez', screen_name='Coropo', location='ÜT: 10.489782,-66.862267', description='Venezuelan journalist covering eco/gov news from Caracas. Any opinions are my own, RTs are not endorsments.', url=None, entities={'description': {'urls': []}}, protected=False, followers_count=9201, friends_count=2069, listed_count=269, created_at=datetime.datetime(2009, 6, 15, 1, 54, 4), favourites_count=610, utc_offset=None, time_zone=None, geo_enabled=True, verified=False, statuses_count=10122, lang=None, contributors_enabled=False, is_translator=False, is_translation_enabled=False, profile_background_color='EBA4C3', profile_background_image_url='http://abs.twimg.com/images/themes/theme17/bg.gif', profile_background_image_url_https='https://abs.twimg.com/images/themes/theme17/bg.gif', profile_background_tile=False, profile_image_url='http://pbs.twimg.com/profile_images/1313122899679752194/FeaNCdj7_normal.jpg', profile_image_url_https='https://pbs.twimg.com/profile_images/1313122899679752194/FeaNCdj7_normal.jpg', profile_banner_url='https://pbs.twimg.com/profile_banners/47230317/1533854686', profile_link_color='E026C1', profile_sidebar_border_color='FFFFFF', profile_sidebar_fill_color='E6F6F9', profile_text_color='333333', profile_use_background_image=True, has_extended_profile=True, default_profile=False, default_profile_image=False, following=False, follow_request_sent=False, notifications=False, translator_type='none'), user=User(_api=<tweepy.api.API object at 0x0000017F1E571388>, _json={'id': 47230317, 'id_str': '47230317', 'name': 'Corina Rodriguez', 'screen_name': 'Coropo', 'location': 'ÜT: 10.489782,-66.862267', 'description': 'Venezuelan journalist covering eco/gov news from Caracas. Any opinions are my own, RTs are not endorsments.', 'url': None, 'entities': {'description': {'urls': []}}, 'protected': False, 'followers_count': 9201, 'friends_count': 2069, 'listed_count': 269, 'created_at': 'Mon Jun 15 01:54:04 +0000 2009', 'favourites_count': 610, 'utc_offset': None, 'time_zone': None, 'geo_enabled': True, 'verified': False, 'statuses_count': 10122, 'lang': None, 'contributors_enabled': False, 'is_translator': False, 'is_translation_enabled': False, 'profile_background_color': 'EBA4C3', 'profile_background_image_url': 'http://abs.twimg.com/images/themes/theme17/bg.gif', 'profile_background_image_url_https': 'https://abs.twimg.com/images/themes/theme17/bg.gif', 'profile_background_tile': False, 'profile_image_url': 'http://pbs.twimg.com/profile_images/1313122899679752194/FeaNCdj7_normal.jpg', 'profile_image_url_https': 'https://pbs.twimg.com/profile_images/1313122899679752194/FeaNCdj7_normal.jpg', 'profile_banner_url': 'https://pbs.twimg.com/profile_banners/47230317/1533854686', 'profile_link_color': 'E026C1', 'profile_sidebar_border_color': 'FFFFFF', 'profile_sidebar_fill_color': 'E6F6F9', 'profile_text_color': '333333', 'profile_use_background_image': True, 'has_extended_profile': True, 'default_profile': False, 'default_profile_image': False, 'following': False, 'follow_request_sent': False, 'notifications': False, 'translator_type': 'none'}, id=47230317, id_str='47230317', name='Corina Rodriguez', screen_name='Coropo', location='ÜT: 10.489782,-66.862267', description='Venezuelan journalist covering eco/gov news from Caracas. Any opinions are my own, RTs are not endorsments.', url=None, entities={'description': {'urls': []}}, protected=False, followers_count=9201, friends_count=2069, listed_count=269, created_at=datetime.datetime(2009, 6, 15, 1, 54, 4), favourites_count=610, utc_offset=None, time_zone=None, geo_enabled=True, verified=False, statuses_count=10122, lang=None, contributors_enabled=False, is_translator=False, is_translation_enabled=False, profile_background_color='EBA4C3', profile_background_image_url='http://abs.twimg.com/images/themes/theme17/bg.gif', profile_background_image_url_https='https://abs.twimg.com/images/themes/theme17/bg.gif', profile_background_tile=False, profile_image_url='http://pbs.twimg.com/profile_images/1313122899679752194/FeaNCdj7_normal.jpg', profile_image_url_https='https://pbs.twimg.com/profile_images/1313122899679752194/FeaNCdj7_normal.jpg', profile_banner_url='https://pbs.twimg.com/profile_banners/47230317/1533854686', profile_link_color='E026C1', profile_sidebar_border_color='FFFFFF', profile_sidebar_fill_color='E6F6F9', profile_text_color='333333', profile_use_background_image=True, has_extended_profile=True, default_profile=False, default_profile_image=False, following=False, follow_request_sent=False, notifications=False, translator_type='none'), geo=None, coordinates=None, place=None, contributors=None, is_quote_status=False, retweet_count=0, favorite_count=0, favorited=False, retweeted=False, possibly_sensitive=False, lang='en') \n",
      "\n",
      "******************************\n",
      "Status(_api=<tweepy.api.API object at 0x0000017F1E571388>, _json={'created_at': 'Tue Nov 03 05:29:21 +0000 2020', 'id': 1323497472120016896, 'id_str': '1323497472120016896', 'full_text': 'Will be abstaining from voting in the 2020 US presidential election because I’m Irish and I’m not eligible to vote', 'truncated': False, 'display_text_range': [0, 114], 'entities': {'hashtags': [], 'symbols': [], 'user_mentions': [], 'urls': []}, 'metadata': {'iso_language_code': 'en', 'result_type': 'recent'}, 'source': '<a href=\"http://twitter.com/download/iphone\" rel=\"nofollow\">Twitter for iPhone</a>', 'in_reply_to_status_id': None, 'in_reply_to_status_id_str': None, 'in_reply_to_user_id': None, 'in_reply_to_user_id_str': None, 'in_reply_to_screen_name': None, 'user': {'id': 780787902611542016, 'id_str': '780787902611542016', 'name': 'rob', 'screen_name': 'ghoulcabin', 'location': 'Cork, Ireland', 'description': 'Pillar of the community', 'url': 'https://t.co/LyFOqjv275', 'entities': {'url': {'urls': [{'url': 'https://t.co/LyFOqjv275', 'expanded_url': 'http://Instagram.com/ghoulcabin', 'display_url': 'Instagram.com/ghoulcabin', 'indices': [0, 23]}]}, 'description': {'urls': []}}, 'protected': False, 'followers_count': 13178, 'friends_count': 809, 'listed_count': 7, 'created_at': 'Tue Sep 27 15:15:17 +0000 2016', 'favourites_count': 19154, 'utc_offset': None, 'time_zone': None, 'geo_enabled': True, 'verified': False, 'statuses_count': 10736, 'lang': None, 'contributors_enabled': False, 'is_translator': False, 'is_translation_enabled': False, 'profile_background_color': 'F5F8FA', 'profile_background_image_url': None, 'profile_background_image_url_https': None, 'profile_background_tile': False, 'profile_image_url': 'http://pbs.twimg.com/profile_images/1322603750205378561/zbSbRbIw_normal.jpg', 'profile_image_url_https': 'https://pbs.twimg.com/profile_images/1322603750205378561/zbSbRbIw_normal.jpg', 'profile_banner_url': 'https://pbs.twimg.com/profile_banners/780787902611542016/1601170768', 'profile_link_color': '1DA1F2', 'profile_sidebar_border_color': 'C0DEED', 'profile_sidebar_fill_color': 'DDEEF6', 'profile_text_color': '333333', 'profile_use_background_image': True, 'has_extended_profile': True, 'default_profile': True, 'default_profile_image': False, 'following': False, 'follow_request_sent': False, 'notifications': False, 'translator_type': 'none'}, 'geo': None, 'coordinates': None, 'place': None, 'contributors': None, 'is_quote_status': False, 'retweet_count': 0, 'favorite_count': 1, 'favorited': False, 'retweeted': False, 'lang': 'en'}, created_at=datetime.datetime(2020, 11, 3, 5, 29, 21), id=1323497472120016896, id_str='1323497472120016896', full_text='Will be abstaining from voting in the 2020 US presidential election because I’m Irish and I’m not eligible to vote', truncated=False, display_text_range=[0, 114], entities={'hashtags': [], 'symbols': [], 'user_mentions': [], 'urls': []}, metadata={'iso_language_code': 'en', 'result_type': 'recent'}, source='Twitter for iPhone', source_url='http://twitter.com/download/iphone', in_reply_to_status_id=None, in_reply_to_status_id_str=None, in_reply_to_user_id=None, in_reply_to_user_id_str=None, in_reply_to_screen_name=None, author=User(_api=<tweepy.api.API object at 0x0000017F1E571388>, _json={'id': 780787902611542016, 'id_str': '780787902611542016', 'name': 'rob', 'screen_name': 'ghoulcabin', 'location': 'Cork, Ireland', 'description': 'Pillar of the community', 'url': 'https://t.co/LyFOqjv275', 'entities': {'url': {'urls': [{'url': 'https://t.co/LyFOqjv275', 'expanded_url': 'http://Instagram.com/ghoulcabin', 'display_url': 'Instagram.com/ghoulcabin', 'indices': [0, 23]}]}, 'description': {'urls': []}}, 'protected': False, 'followers_count': 13178, 'friends_count': 809, 'listed_count': 7, 'created_at': 'Tue Sep 27 15:15:17 +0000 2016', 'favourites_count': 19154, 'utc_offset': None, 'time_zone': None, 'geo_enabled': True, 'verified': False, 'statuses_count': 10736, 'lang': None, 'contributors_enabled': False, 'is_translator': False, 'is_translation_enabled': False, 'profile_background_color': 'F5F8FA', 'profile_background_image_url': None, 'profile_background_image_url_https': None, 'profile_background_tile': False, 'profile_image_url': 'http://pbs.twimg.com/profile_images/1322603750205378561/zbSbRbIw_normal.jpg', 'profile_image_url_https': 'https://pbs.twimg.com/profile_images/1322603750205378561/zbSbRbIw_normal.jpg', 'profile_banner_url': 'https://pbs.twimg.com/profile_banners/780787902611542016/1601170768', 'profile_link_color': '1DA1F2', 'profile_sidebar_border_color': 'C0DEED', 'profile_sidebar_fill_color': 'DDEEF6', 'profile_text_color': '333333', 'profile_use_background_image': True, 'has_extended_profile': True, 'default_profile': True, 'default_profile_image': False, 'following': False, 'follow_request_sent': False, 'notifications': False, 'translator_type': 'none'}, id=780787902611542016, id_str='780787902611542016', name='rob', screen_name='ghoulcabin', location='Cork, Ireland', description='Pillar of the community', url='https://t.co/LyFOqjv275', entities={'url': {'urls': [{'url': 'https://t.co/LyFOqjv275', 'expanded_url': 'http://Instagram.com/ghoulcabin', 'display_url': 'Instagram.com/ghoulcabin', 'indices': [0, 23]}]}, 'description': {'urls': []}}, protected=False, followers_count=13178, friends_count=809, listed_count=7, created_at=datetime.datetime(2016, 9, 27, 15, 15, 17), favourites_count=19154, utc_offset=None, time_zone=None, geo_enabled=True, verified=False, statuses_count=10736, lang=None, contributors_enabled=False, is_translator=False, is_translation_enabled=False, profile_background_color='F5F8FA', profile_background_image_url=None, profile_background_image_url_https=None, profile_background_tile=False, profile_image_url='http://pbs.twimg.com/profile_images/1322603750205378561/zbSbRbIw_normal.jpg', profile_image_url_https='https://pbs.twimg.com/profile_images/1322603750205378561/zbSbRbIw_normal.jpg', profile_banner_url='https://pbs.twimg.com/profile_banners/780787902611542016/1601170768', profile_link_color='1DA1F2', profile_sidebar_border_color='C0DEED', profile_sidebar_fill_color='DDEEF6', profile_text_color='333333', profile_use_background_image=True, has_extended_profile=True, default_profile=True, default_profile_image=False, following=False, follow_request_sent=False, notifications=False, translator_type='none'), user=User(_api=<tweepy.api.API object at 0x0000017F1E571388>, _json={'id': 780787902611542016, 'id_str': '780787902611542016', 'name': 'rob', 'screen_name': 'ghoulcabin', 'location': 'Cork, Ireland', 'description': 'Pillar of the community', 'url': 'https://t.co/LyFOqjv275', 'entities': {'url': {'urls': [{'url': 'https://t.co/LyFOqjv275', 'expanded_url': 'http://Instagram.com/ghoulcabin', 'display_url': 'Instagram.com/ghoulcabin', 'indices': [0, 23]}]}, 'description': {'urls': []}}, 'protected': False, 'followers_count': 13178, 'friends_count': 809, 'listed_count': 7, 'created_at': 'Tue Sep 27 15:15:17 +0000 2016', 'favourites_count': 19154, 'utc_offset': None, 'time_zone': None, 'geo_enabled': True, 'verified': False, 'statuses_count': 10736, 'lang': None, 'contributors_enabled': False, 'is_translator': False, 'is_translation_enabled': False, 'profile_background_color': 'F5F8FA', 'profile_background_image_url': None, 'profile_background_image_url_https': None, 'profile_background_tile': False, 'profile_image_url': 'http://pbs.twimg.com/profile_images/1322603750205378561/zbSbRbIw_normal.jpg', 'profile_image_url_https': 'https://pbs.twimg.com/profile_images/1322603750205378561/zbSbRbIw_normal.jpg', 'profile_banner_url': 'https://pbs.twimg.com/profile_banners/780787902611542016/1601170768', 'profile_link_color': '1DA1F2', 'profile_sidebar_border_color': 'C0DEED', 'profile_sidebar_fill_color': 'DDEEF6', 'profile_text_color': '333333', 'profile_use_background_image': True, 'has_extended_profile': True, 'default_profile': True, 'default_profile_image': False, 'following': False, 'follow_request_sent': False, 'notifications': False, 'translator_type': 'none'}, id=780787902611542016, id_str='780787902611542016', name='rob', screen_name='ghoulcabin', location='Cork, Ireland', description='Pillar of the community', url='https://t.co/LyFOqjv275', entities={'url': {'urls': [{'url': 'https://t.co/LyFOqjv275', 'expanded_url': 'http://Instagram.com/ghoulcabin', 'display_url': 'Instagram.com/ghoulcabin', 'indices': [0, 23]}]}, 'description': {'urls': []}}, protected=False, followers_count=13178, friends_count=809, listed_count=7, created_at=datetime.datetime(2016, 9, 27, 15, 15, 17), favourites_count=19154, utc_offset=None, time_zone=None, geo_enabled=True, verified=False, statuses_count=10736, lang=None, contributors_enabled=False, is_translator=False, is_translation_enabled=False, profile_background_color='F5F8FA', profile_background_image_url=None, profile_background_image_url_https=None, profile_background_tile=False, profile_image_url='http://pbs.twimg.com/profile_images/1322603750205378561/zbSbRbIw_normal.jpg', profile_image_url_https='https://pbs.twimg.com/profile_images/1322603750205378561/zbSbRbIw_normal.jpg', profile_banner_url='https://pbs.twimg.com/profile_banners/780787902611542016/1601170768', profile_link_color='1DA1F2', profile_sidebar_border_color='C0DEED', profile_sidebar_fill_color='DDEEF6', profile_text_color='333333', profile_use_background_image=True, has_extended_profile=True, default_profile=True, default_profile_image=False, following=False, follow_request_sent=False, notifications=False, translator_type='none'), geo=None, coordinates=None, place=None, contributors=None, is_quote_status=False, retweet_count=0, favorite_count=1, favorited=False, retweeted=False, lang='en') \n",
      "\n",
      "******************************\n",
      "Status(_api=<tweepy.api.API object at 0x0000017F1E571388>, _json={'created_at': 'Tue Nov 03 05:28:50 +0000 2020', 'id': 1323497342734127104, 'id_str': '1323497342734127104', 'full_text': 'Gold (XAU/USD) wavers in a familiar range on the US election day this Tuesday, as a sense of caution sets amid a tighter presidential race in key six swing states.\\xa0\\xa0\\nhttps://t.co/ECtdgozt21 https://t.co/8mFjpLHczA', 'truncated': False, 'display_text_range': [0, 189], 'entities': {'hashtags': [], 'symbols': [], 'user_mentions': [], 'urls': [{'url': 'https://t.co/ECtdgozt21', 'expanded_url': 'http://Linkin.bio/fxaffairs', 'display_url': 'Linkin.bio/fxaffairs', 'indices': [166, 189]}], 'media': [{'id': 1323497338061623296, 'id_str': '1323497338061623296', 'indices': [190, 213], 'media_url': 'http://pbs.twimg.com/media/El4B0RhWkAAJbIX.jpg', 'media_url_https': 'https://pbs.twimg.com/media/El4B0RhWkAAJbIX.jpg', 'url': 'https://t.co/8mFjpLHczA', 'display_url': 'pic.twitter.com/8mFjpLHczA', 'expanded_url': 'https://twitter.com/fxaffairs/status/1323497342734127104/photo/1', 'type': 'photo', 'sizes': {'thumb': {'w': 150, 'h': 150, 'resize': 'crop'}, 'small': {'w': 680, 'h': 680, 'resize': 'fit'}, 'large': {'w': 1080, 'h': 1080, 'resize': 'fit'}, 'medium': {'w': 1080, 'h': 1080, 'resize': 'fit'}}}]}, 'extended_entities': {'media': [{'id': 1323497338061623296, 'id_str': '1323497338061623296', 'indices': [190, 213], 'media_url': 'http://pbs.twimg.com/media/El4B0RhWkAAJbIX.jpg', 'media_url_https': 'https://pbs.twimg.com/media/El4B0RhWkAAJbIX.jpg', 'url': 'https://t.co/8mFjpLHczA', 'display_url': 'pic.twitter.com/8mFjpLHczA', 'expanded_url': 'https://twitter.com/fxaffairs/status/1323497342734127104/photo/1', 'type': 'photo', 'sizes': {'thumb': {'w': 150, 'h': 150, 'resize': 'crop'}, 'small': {'w': 680, 'h': 680, 'resize': 'fit'}, 'large': {'w': 1080, 'h': 1080, 'resize': 'fit'}, 'medium': {'w': 1080, 'h': 1080, 'resize': 'fit'}}}]}, 'metadata': {'iso_language_code': 'en', 'result_type': 'recent'}, 'source': '<a href=\"http://twitter.com/download/iphone\" rel=\"nofollow\">Twitter for iPhone</a>', 'in_reply_to_status_id': None, 'in_reply_to_status_id_str': None, 'in_reply_to_user_id': None, 'in_reply_to_user_id_str': None, 'in_reply_to_screen_name': None, 'user': {'id': 1266851977771864065, 'id_str': '1266851977771864065', 'name': 'Fxaffairs', 'screen_name': 'fxaffairs', 'location': '', 'description': 'Bringing you news on the FX Market, Finance & competitive research like no other', 'url': 'https://t.co/XjFrn2Snl0', 'entities': {'url': {'urls': [{'url': 'https://t.co/XjFrn2Snl0', 'expanded_url': 'http://linkin.bio/fxaffairs', 'display_url': 'linkin.bio/fxaffairs', 'indices': [0, 23]}]}, 'description': {'urls': []}}, 'protected': False, 'followers_count': 109, 'friends_count': 140, 'listed_count': 0, 'created_at': 'Sat May 30 22:00:39 +0000 2020', 'favourites_count': 161, 'utc_offset': None, 'time_zone': None, 'geo_enabled': False, 'verified': False, 'statuses_count': 1358, 'lang': None, 'contributors_enabled': False, 'is_translator': False, 'is_translation_enabled': False, 'profile_background_color': 'F5F8FA', 'profile_background_image_url': None, 'profile_background_image_url_https': None, 'profile_background_tile': False, 'profile_image_url': 'http://pbs.twimg.com/profile_images/1267461921202208773/n7bjvB0d_normal.jpg', 'profile_image_url_https': 'https://pbs.twimg.com/profile_images/1267461921202208773/n7bjvB0d_normal.jpg', 'profile_banner_url': 'https://pbs.twimg.com/profile_banners/1266851977771864065/1591021446', 'profile_link_color': '1DA1F2', 'profile_sidebar_border_color': 'C0DEED', 'profile_sidebar_fill_color': 'DDEEF6', 'profile_text_color': '333333', 'profile_use_background_image': True, 'has_extended_profile': False, 'default_profile': True, 'default_profile_image': False, 'following': False, 'follow_request_sent': False, 'notifications': False, 'translator_type': 'none'}, 'geo': None, 'coordinates': None, 'place': None, 'contributors': None, 'is_quote_status': False, 'retweet_count': 0, 'favorite_count': 1, 'favorited': False, 'retweeted': False, 'possibly_sensitive': False, 'lang': 'en'}, created_at=datetime.datetime(2020, 11, 3, 5, 28, 50), id=1323497342734127104, id_str='1323497342734127104', full_text='Gold (XAU/USD) wavers in a familiar range on the US election day this Tuesday, as a sense of caution sets amid a tighter presidential race in key six swing states.\\xa0\\xa0\\nhttps://t.co/ECtdgozt21 https://t.co/8mFjpLHczA', truncated=False, display_text_range=[0, 189], entities={'hashtags': [], 'symbols': [], 'user_mentions': [], 'urls': [{'url': 'https://t.co/ECtdgozt21', 'expanded_url': 'http://Linkin.bio/fxaffairs', 'display_url': 'Linkin.bio/fxaffairs', 'indices': [166, 189]}], 'media': [{'id': 1323497338061623296, 'id_str': '1323497338061623296', 'indices': [190, 213], 'media_url': 'http://pbs.twimg.com/media/El4B0RhWkAAJbIX.jpg', 'media_url_https': 'https://pbs.twimg.com/media/El4B0RhWkAAJbIX.jpg', 'url': 'https://t.co/8mFjpLHczA', 'display_url': 'pic.twitter.com/8mFjpLHczA', 'expanded_url': 'https://twitter.com/fxaffairs/status/1323497342734127104/photo/1', 'type': 'photo', 'sizes': {'thumb': {'w': 150, 'h': 150, 'resize': 'crop'}, 'small': {'w': 680, 'h': 680, 'resize': 'fit'}, 'large': {'w': 1080, 'h': 1080, 'resize': 'fit'}, 'medium': {'w': 1080, 'h': 1080, 'resize': 'fit'}}}]}, extended_entities={'media': [{'id': 1323497338061623296, 'id_str': '1323497338061623296', 'indices': [190, 213], 'media_url': 'http://pbs.twimg.com/media/El4B0RhWkAAJbIX.jpg', 'media_url_https': 'https://pbs.twimg.com/media/El4B0RhWkAAJbIX.jpg', 'url': 'https://t.co/8mFjpLHczA', 'display_url': 'pic.twitter.com/8mFjpLHczA', 'expanded_url': 'https://twitter.com/fxaffairs/status/1323497342734127104/photo/1', 'type': 'photo', 'sizes': {'thumb': {'w': 150, 'h': 150, 'resize': 'crop'}, 'small': {'w': 680, 'h': 680, 'resize': 'fit'}, 'large': {'w': 1080, 'h': 1080, 'resize': 'fit'}, 'medium': {'w': 1080, 'h': 1080, 'resize': 'fit'}}}]}, metadata={'iso_language_code': 'en', 'result_type': 'recent'}, source='Twitter for iPhone', source_url='http://twitter.com/download/iphone', in_reply_to_status_id=None, in_reply_to_status_id_str=None, in_reply_to_user_id=None, in_reply_to_user_id_str=None, in_reply_to_screen_name=None, author=User(_api=<tweepy.api.API object at 0x0000017F1E571388>, _json={'id': 1266851977771864065, 'id_str': '1266851977771864065', 'name': 'Fxaffairs', 'screen_name': 'fxaffairs', 'location': '', 'description': 'Bringing you news on the FX Market, Finance & competitive research like no other', 'url': 'https://t.co/XjFrn2Snl0', 'entities': {'url': {'urls': [{'url': 'https://t.co/XjFrn2Snl0', 'expanded_url': 'http://linkin.bio/fxaffairs', 'display_url': 'linkin.bio/fxaffairs', 'indices': [0, 23]}]}, 'description': {'urls': []}}, 'protected': False, 'followers_count': 109, 'friends_count': 140, 'listed_count': 0, 'created_at': 'Sat May 30 22:00:39 +0000 2020', 'favourites_count': 161, 'utc_offset': None, 'time_zone': None, 'geo_enabled': False, 'verified': False, 'statuses_count': 1358, 'lang': None, 'contributors_enabled': False, 'is_translator': False, 'is_translation_enabled': False, 'profile_background_color': 'F5F8FA', 'profile_background_image_url': None, 'profile_background_image_url_https': None, 'profile_background_tile': False, 'profile_image_url': 'http://pbs.twimg.com/profile_images/1267461921202208773/n7bjvB0d_normal.jpg', 'profile_image_url_https': 'https://pbs.twimg.com/profile_images/1267461921202208773/n7bjvB0d_normal.jpg', 'profile_banner_url': 'https://pbs.twimg.com/profile_banners/1266851977771864065/1591021446', 'profile_link_color': '1DA1F2', 'profile_sidebar_border_color': 'C0DEED', 'profile_sidebar_fill_color': 'DDEEF6', 'profile_text_color': '333333', 'profile_use_background_image': True, 'has_extended_profile': False, 'default_profile': True, 'default_profile_image': False, 'following': False, 'follow_request_sent': False, 'notifications': False, 'translator_type': 'none'}, id=1266851977771864065, id_str='1266851977771864065', name='Fxaffairs', screen_name='fxaffairs', location='', description='Bringing you news on the FX Market, Finance & competitive research like no other', url='https://t.co/XjFrn2Snl0', entities={'url': {'urls': [{'url': 'https://t.co/XjFrn2Snl0', 'expanded_url': 'http://linkin.bio/fxaffairs', 'display_url': 'linkin.bio/fxaffairs', 'indices': [0, 23]}]}, 'description': {'urls': []}}, protected=False, followers_count=109, friends_count=140, listed_count=0, created_at=datetime.datetime(2020, 5, 30, 22, 0, 39), favourites_count=161, utc_offset=None, time_zone=None, geo_enabled=False, verified=False, statuses_count=1358, lang=None, contributors_enabled=False, is_translator=False, is_translation_enabled=False, profile_background_color='F5F8FA', profile_background_image_url=None, profile_background_image_url_https=None, profile_background_tile=False, profile_image_url='http://pbs.twimg.com/profile_images/1267461921202208773/n7bjvB0d_normal.jpg', profile_image_url_https='https://pbs.twimg.com/profile_images/1267461921202208773/n7bjvB0d_normal.jpg', profile_banner_url='https://pbs.twimg.com/profile_banners/1266851977771864065/1591021446', profile_link_color='1DA1F2', profile_sidebar_border_color='C0DEED', profile_sidebar_fill_color='DDEEF6', profile_text_color='333333', profile_use_background_image=True, has_extended_profile=False, default_profile=True, default_profile_image=False, following=False, follow_request_sent=False, notifications=False, translator_type='none'), user=User(_api=<tweepy.api.API object at 0x0000017F1E571388>, _json={'id': 1266851977771864065, 'id_str': '1266851977771864065', 'name': 'Fxaffairs', 'screen_name': 'fxaffairs', 'location': '', 'description': 'Bringing you news on the FX Market, Finance & competitive research like no other', 'url': 'https://t.co/XjFrn2Snl0', 'entities': {'url': {'urls': [{'url': 'https://t.co/XjFrn2Snl0', 'expanded_url': 'http://linkin.bio/fxaffairs', 'display_url': 'linkin.bio/fxaffairs', 'indices': [0, 23]}]}, 'description': {'urls': []}}, 'protected': False, 'followers_count': 109, 'friends_count': 140, 'listed_count': 0, 'created_at': 'Sat May 30 22:00:39 +0000 2020', 'favourites_count': 161, 'utc_offset': None, 'time_zone': None, 'geo_enabled': False, 'verified': False, 'statuses_count': 1358, 'lang': None, 'contributors_enabled': False, 'is_translator': False, 'is_translation_enabled': False, 'profile_background_color': 'F5F8FA', 'profile_background_image_url': None, 'profile_background_image_url_https': None, 'profile_background_tile': False, 'profile_image_url': 'http://pbs.twimg.com/profile_images/1267461921202208773/n7bjvB0d_normal.jpg', 'profile_image_url_https': 'https://pbs.twimg.com/profile_images/1267461921202208773/n7bjvB0d_normal.jpg', 'profile_banner_url': 'https://pbs.twimg.com/profile_banners/1266851977771864065/1591021446', 'profile_link_color': '1DA1F2', 'profile_sidebar_border_color': 'C0DEED', 'profile_sidebar_fill_color': 'DDEEF6', 'profile_text_color': '333333', 'profile_use_background_image': True, 'has_extended_profile': False, 'default_profile': True, 'default_profile_image': False, 'following': False, 'follow_request_sent': False, 'notifications': False, 'translator_type': 'none'}, id=1266851977771864065, id_str='1266851977771864065', name='Fxaffairs', screen_name='fxaffairs', location='', description='Bringing you news on the FX Market, Finance & competitive research like no other', url='https://t.co/XjFrn2Snl0', entities={'url': {'urls': [{'url': 'https://t.co/XjFrn2Snl0', 'expanded_url': 'http://linkin.bio/fxaffairs', 'display_url': 'linkin.bio/fxaffairs', 'indices': [0, 23]}]}, 'description': {'urls': []}}, protected=False, followers_count=109, friends_count=140, listed_count=0, created_at=datetime.datetime(2020, 5, 30, 22, 0, 39), favourites_count=161, utc_offset=None, time_zone=None, geo_enabled=False, verified=False, statuses_count=1358, lang=None, contributors_enabled=False, is_translator=False, is_translation_enabled=False, profile_background_color='F5F8FA', profile_background_image_url=None, profile_background_image_url_https=None, profile_background_tile=False, profile_image_url='http://pbs.twimg.com/profile_images/1267461921202208773/n7bjvB0d_normal.jpg', profile_image_url_https='https://pbs.twimg.com/profile_images/1267461921202208773/n7bjvB0d_normal.jpg', profile_banner_url='https://pbs.twimg.com/profile_banners/1266851977771864065/1591021446', profile_link_color='1DA1F2', profile_sidebar_border_color='C0DEED', profile_sidebar_fill_color='DDEEF6', profile_text_color='333333', profile_use_background_image=True, has_extended_profile=False, default_profile=True, default_profile_image=False, following=False, follow_request_sent=False, notifications=False, translator_type='none'), geo=None, coordinates=None, place=None, contributors=None, is_quote_status=False, retweet_count=0, favorite_count=1, favorited=False, retweeted=False, possibly_sensitive=False, lang='en') \n",
      "\n",
      "******************************\n"
     ]
    }
   ],
   "source": [
    "tweets = api.search(query, count=10, lang='en',exclude='retweets',tweet_mode='extended')\n",
    "for tweet in tweets:\n",
    "    print(tweet,'\\n')\n",
    "    print('*'*30)\n"
   ]
  },
  {
   "cell_type": "code",
   "execution_count": 14,
   "metadata": {},
   "outputs": [
    {
     "name": "stdout",
     "output_type": "stream",
     "text": [
      "Empty DataFrame\n",
      "Columns: [Tweets, User, User_statuses_count, user_followers, User_location, User_verified, fav_count, rt_count, tweet_date]\n",
      "Index: []\n"
     ]
    }
   ],
   "source": [
    "df = pd.DataFrame(columns = ['Tweets' , 'User' , 'User_statuses_count' , \n",
    "                            'user_followers' , 'User_location' , 'User_verified' ,\n",
    "                            'fav_count' , 'rt_count' , 'tweet_date'] )\n",
    "print(df)\n"
   ]
  },
  {
   "cell_type": "code",
   "execution_count": 15,
   "metadata": {},
   "outputs": [],
   "source": [
    "def stream(data,file_name):\n",
    "    i=0\n",
    "    for tweet in tweepy.Cursor(api.search,q=data,count=100,lan='en').items():\n",
    "        print(i, end='\\r')\n",
    "        df.loc[i, 'Tweets'] = tweet.text\n",
    "        df.loc[i, 'User'] = tweet.user.name\n",
    "        df.loc[i, 'User_statuses_count'] = tweet.user.statuses_count\n",
    "        df.loc[i, 'user_followers'] = tweet.user.followers_count\n",
    "        df.loc[i, 'User_location'] = tweet.user.location\n",
    "        df.loc[i, 'User_verified'] = tweet.user.verified\n",
    "        df.loc[i, 'fav_count'] = tweet.favorite_count\n",
    "        df.loc[i, 'rt_count'] = tweet.retweet_count\n",
    "        df.loc[i, 'tweet_date'] = tweet.created_at\n",
    "        df.to_excel('{}.xlsx'.format(file_name))\n",
    "        i = i+1\n",
    "        if i == 1000:\n",
    "            break\n",
    "        else:\n",
    "            pass"
   ]
  },
  {
   "cell_type": "code",
   "execution_count": 17,
   "metadata": {},
   "outputs": [
    {
     "name": "stdout",
     "output_type": "stream",
     "text": [
      "999\r"
     ]
    }
   ],
   "source": [
    "stream(data=[\"US Presidential Election\"] , file_name='my_tweets')"
   ]
  },
  {
   "cell_type": "code",
   "execution_count": 19,
   "metadata": {},
   "outputs": [
    {
     "data": {
      "text/html": [
       "<div>\n",
       "<style scoped>\n",
       "    .dataframe tbody tr th:only-of-type {\n",
       "        vertical-align: middle;\n",
       "    }\n",
       "\n",
       "    .dataframe tbody tr th {\n",
       "        vertical-align: top;\n",
       "    }\n",
       "\n",
       "    .dataframe thead th {\n",
       "        text-align: right;\n",
       "    }\n",
       "</style>\n",
       "<table border=\"1\" class=\"dataframe\">\n",
       "  <thead>\n",
       "    <tr style=\"text-align: right;\">\n",
       "      <th></th>\n",
       "      <th>Tweets</th>\n",
       "      <th>User</th>\n",
       "      <th>User_statuses_count</th>\n",
       "      <th>user_followers</th>\n",
       "      <th>User_location</th>\n",
       "      <th>User_verified</th>\n",
       "      <th>fav_count</th>\n",
       "      <th>rt_count</th>\n",
       "      <th>tweet_date</th>\n",
       "    </tr>\n",
       "  </thead>\n",
       "  <tbody>\n",
       "    <tr>\n",
       "      <th>0</th>\n",
       "      <td>RT @AFP: The Hale House at the Balsams resort ...</td>\n",
       "      <td>Bear, Sam, Jasmine</td>\n",
       "      <td>14691</td>\n",
       "      <td>381</td>\n",
       "      <td>BigYard, Swimming Hole</td>\n",
       "      <td>False</td>\n",
       "      <td>0</td>\n",
       "      <td>84</td>\n",
       "      <td>2020-11-03 05:44:53</td>\n",
       "    </tr>\n",
       "    <tr>\n",
       "      <th>1</th>\n",
       "      <td>RT @spectatorindex: POLL: US Presidential Elec...</td>\n",
       "      <td>Imtiyaz Khan</td>\n",
       "      <td>15665</td>\n",
       "      <td>30</td>\n",
       "      <td>Mumbai, India</td>\n",
       "      <td>False</td>\n",
       "      <td>0</td>\n",
       "      <td>488</td>\n",
       "      <td>2020-11-03 05:44:52</td>\n",
       "    </tr>\n",
       "    <tr>\n",
       "      <th>2</th>\n",
       "      <td>RT @spectatorindex: Who will win the US Presid...</td>\n",
       "      <td>Vinay Kumar</td>\n",
       "      <td>141904</td>\n",
       "      <td>602</td>\n",
       "      <td>India</td>\n",
       "      <td>False</td>\n",
       "      <td>0</td>\n",
       "      <td>1562</td>\n",
       "      <td>2020-11-03 05:44:51</td>\n",
       "    </tr>\n",
       "    <tr>\n",
       "      <th>3</th>\n",
       "      <td>RT @AFP: The Hale House at the Balsams resort ...</td>\n",
       "      <td>@Silent Cops Are Complicit Cops</td>\n",
       "      <td>9022</td>\n",
       "      <td>745</td>\n",
       "      <td>United States</td>\n",
       "      <td>False</td>\n",
       "      <td>0</td>\n",
       "      <td>84</td>\n",
       "      <td>2020-11-03 05:44:50</td>\n",
       "    </tr>\n",
       "    <tr>\n",
       "      <th>4</th>\n",
       "      <td>RT @gathara: #BREAKING Viral images captured b...</td>\n",
       "      <td>Sadhana Gupta</td>\n",
       "      <td>50594</td>\n",
       "      <td>245</td>\n",
       "      <td>the internets</td>\n",
       "      <td>False</td>\n",
       "      <td>0</td>\n",
       "      <td>548</td>\n",
       "      <td>2020-11-03 05:44:40</td>\n",
       "    </tr>\n",
       "    <tr>\n",
       "      <th>...</th>\n",
       "      <td>...</td>\n",
       "      <td>...</td>\n",
       "      <td>...</td>\n",
       "      <td>...</td>\n",
       "      <td>...</td>\n",
       "      <td>...</td>\n",
       "      <td>...</td>\n",
       "      <td>...</td>\n",
       "      <td>...</td>\n",
       "    </tr>\n",
       "    <tr>\n",
       "      <th>995</th>\n",
       "      <td>RT @AC360: \"We are very optimistic but the enc...</td>\n",
       "      <td>Shane Duckworth</td>\n",
       "      <td>1428</td>\n",
       "      <td>108</td>\n",
       "      <td>Brooklyn, most times</td>\n",
       "      <td>False</td>\n",
       "      <td>0</td>\n",
       "      <td>248</td>\n",
       "      <td>2020-11-03 04:52:28</td>\n",
       "    </tr>\n",
       "    <tr>\n",
       "      <th>996</th>\n",
       "      <td>US presidential election: Twitter says won't l...</td>\n",
       "      <td>ST Foreign Desk</td>\n",
       "      <td>178885</td>\n",
       "      <td>45369</td>\n",
       "      <td>Singapore</td>\n",
       "      <td>False</td>\n",
       "      <td>0</td>\n",
       "      <td>0</td>\n",
       "      <td>2020-11-03 04:52:27</td>\n",
       "    </tr>\n",
       "    <tr>\n",
       "      <th>997</th>\n",
       "      <td>@koreanforeigner Presidential election years a...</td>\n",
       "      <td>PeterMdy</td>\n",
       "      <td>922</td>\n",
       "      <td>205</td>\n",
       "      <td></td>\n",
       "      <td>False</td>\n",
       "      <td>0</td>\n",
       "      <td>0</td>\n",
       "      <td>2020-11-03 04:52:21</td>\n",
       "    </tr>\n",
       "    <tr>\n",
       "      <th>998</th>\n",
       "      <td>RT @Reuters: Police have arrested the leader o...</td>\n",
       "      <td>Oluro Oluros</td>\n",
       "      <td>1790</td>\n",
       "      <td>43</td>\n",
       "      <td></td>\n",
       "      <td>False</td>\n",
       "      <td>0</td>\n",
       "      <td>103</td>\n",
       "      <td>2020-11-03 04:52:17</td>\n",
       "    </tr>\n",
       "    <tr>\n",
       "      <th>999</th>\n",
       "      <td>RT @gathara: #BREAKING Viral video of barricad...</td>\n",
       "      <td>Alice Marshall</td>\n",
       "      <td>185582</td>\n",
       "      <td>2565</td>\n",
       "      <td>Washington, DC</td>\n",
       "      <td>False</td>\n",
       "      <td>0</td>\n",
       "      <td>337</td>\n",
       "      <td>2020-11-03 04:52:14</td>\n",
       "    </tr>\n",
       "  </tbody>\n",
       "</table>\n",
       "<p>1000 rows × 9 columns</p>\n",
       "</div>"
      ],
      "text/plain": [
       "                                                Tweets  \\\n",
       "0    RT @AFP: The Hale House at the Balsams resort ...   \n",
       "1    RT @spectatorindex: POLL: US Presidential Elec...   \n",
       "2    RT @spectatorindex: Who will win the US Presid...   \n",
       "3    RT @AFP: The Hale House at the Balsams resort ...   \n",
       "4    RT @gathara: #BREAKING Viral images captured b...   \n",
       "..                                                 ...   \n",
       "995  RT @AC360: \"We are very optimistic but the enc...   \n",
       "996  US presidential election: Twitter says won't l...   \n",
       "997  @koreanforeigner Presidential election years a...   \n",
       "998  RT @Reuters: Police have arrested the leader o...   \n",
       "999  RT @gathara: #BREAKING Viral video of barricad...   \n",
       "\n",
       "                                User User_statuses_count user_followers  \\\n",
       "0                 Bear, Sam, Jasmine               14691            381   \n",
       "1                       Imtiyaz Khan               15665             30   \n",
       "2                        Vinay Kumar              141904            602   \n",
       "3    @Silent Cops Are Complicit Cops                9022            745   \n",
       "4                      Sadhana Gupta               50594            245   \n",
       "..                               ...                 ...            ...   \n",
       "995                  Shane Duckworth                1428            108   \n",
       "996                  ST Foreign Desk              178885          45369   \n",
       "997                         PeterMdy                 922            205   \n",
       "998                     Oluro Oluros                1790             43   \n",
       "999                   Alice Marshall              185582           2565   \n",
       "\n",
       "              User_location User_verified fav_count rt_count  \\\n",
       "0    BigYard, Swimming Hole         False         0       84   \n",
       "1             Mumbai, India         False         0      488   \n",
       "2                     India         False         0     1562   \n",
       "3             United States         False         0       84   \n",
       "4             the internets         False         0      548   \n",
       "..                      ...           ...       ...      ...   \n",
       "995    Brooklyn, most times         False         0      248   \n",
       "996               Singapore         False         0        0   \n",
       "997                                 False         0        0   \n",
       "998                                 False         0      103   \n",
       "999          Washington, DC         False         0      337   \n",
       "\n",
       "              tweet_date  \n",
       "0    2020-11-03 05:44:53  \n",
       "1    2020-11-03 05:44:52  \n",
       "2    2020-11-03 05:44:51  \n",
       "3    2020-11-03 05:44:50  \n",
       "4    2020-11-03 05:44:40  \n",
       "..                   ...  \n",
       "995  2020-11-03 04:52:28  \n",
       "996  2020-11-03 04:52:27  \n",
       "997  2020-11-03 04:52:21  \n",
       "998  2020-11-03 04:52:17  \n",
       "999  2020-11-03 04:52:14  \n",
       "\n",
       "[1000 rows x 9 columns]"
      ]
     },
     "execution_count": 19,
     "metadata": {},
     "output_type": "execute_result"
    }
   ],
   "source": [
    "df"
   ]
  },
  {
   "cell_type": "code",
   "execution_count": 20,
   "metadata": {},
   "outputs": [
    {
     "name": "stdout",
     "output_type": "stream",
     "text": [
      "Collecting textblob\n",
      "  Downloading textblob-0.15.3-py2.py3-none-any.whl (636 kB)\n",
      "Requirement already satisfied: nltk>=3.1 in c:\\users\\lenovo\\anaconda3\\lib\\site-packages (from textblob) (3.4.5)\n",
      "Requirement already satisfied: six in c:\\users\\lenovo\\anaconda3\\lib\\site-packages (from nltk>=3.1->textblob) (1.14.0)\n",
      "Installing collected packages: textblob\n",
      "Successfully installed textblob-0.15.3\n"
     ]
    }
   ],
   "source": [
    "!pip install textblob"
   ]
  },
  {
   "cell_type": "code",
   "execution_count": 21,
   "metadata": {},
   "outputs": [],
   "source": [
    "from textblob import TextBlob"
   ]
  },
  {
   "cell_type": "code",
   "execution_count": 22,
   "metadata": {},
   "outputs": [],
   "source": [
    "import re\n",
    "def clean_tweet(tweet):\n",
    "    return ' '.join(re.sub('(@[A-Za-z0-9]+)|([^0-9A-Za-z \\t])|(\\w+:\\/\\/\\S+)', ' ', tweet).split())"
   ]
  },
  {
   "cell_type": "code",
   "execution_count": 23,
   "metadata": {},
   "outputs": [],
   "source": [
    "def analyze_sentiment(tweet):\n",
    "    analysis = TextBlob(tweet)\n",
    "    if analysis.sentiment.polarity > 0:\n",
    "        return 'Positive'\n",
    "    elif analysis.sentiment.polarity == 0:\n",
    "        return 'Neutral'\n",
    "    else:\n",
    "        return 'Negative'"
   ]
  },
  {
   "cell_type": "code",
   "execution_count": 24,
   "metadata": {},
   "outputs": [],
   "source": [
    "df['clean_tweet'] = df['Tweets'].apply(lambda x : clean_tweet(x))"
   ]
  },
  {
   "cell_type": "code",
   "execution_count": 25,
   "metadata": {},
   "outputs": [
    {
     "data": {
      "text/html": [
       "<div>\n",
       "<style scoped>\n",
       "    .dataframe tbody tr th:only-of-type {\n",
       "        vertical-align: middle;\n",
       "    }\n",
       "\n",
       "    .dataframe tbody tr th {\n",
       "        vertical-align: top;\n",
       "    }\n",
       "\n",
       "    .dataframe thead th {\n",
       "        text-align: right;\n",
       "    }\n",
       "</style>\n",
       "<table border=\"1\" class=\"dataframe\">\n",
       "  <thead>\n",
       "    <tr style=\"text-align: right;\">\n",
       "      <th></th>\n",
       "      <th>Tweets</th>\n",
       "      <th>User</th>\n",
       "      <th>User_statuses_count</th>\n",
       "      <th>user_followers</th>\n",
       "      <th>User_location</th>\n",
       "      <th>User_verified</th>\n",
       "      <th>fav_count</th>\n",
       "      <th>rt_count</th>\n",
       "      <th>tweet_date</th>\n",
       "      <th>clean_tweet</th>\n",
       "    </tr>\n",
       "  </thead>\n",
       "  <tbody>\n",
       "    <tr>\n",
       "      <th>0</th>\n",
       "      <td>RT @AFP: The Hale House at the Balsams resort ...</td>\n",
       "      <td>Bear, Sam, Jasmine</td>\n",
       "      <td>14691</td>\n",
       "      <td>381</td>\n",
       "      <td>BigYard, Swimming Hole</td>\n",
       "      <td>False</td>\n",
       "      <td>0</td>\n",
       "      <td>84</td>\n",
       "      <td>2020-11-03 05:44:53</td>\n",
       "      <td>RT The Hale House at the Balsams resort in Dix...</td>\n",
       "    </tr>\n",
       "    <tr>\n",
       "      <th>1</th>\n",
       "      <td>RT @spectatorindex: POLL: US Presidential Elec...</td>\n",
       "      <td>Imtiyaz Khan</td>\n",
       "      <td>15665</td>\n",
       "      <td>30</td>\n",
       "      <td>Mumbai, India</td>\n",
       "      <td>False</td>\n",
       "      <td>0</td>\n",
       "      <td>488</td>\n",
       "      <td>2020-11-03 05:44:52</td>\n",
       "      <td>RT POLL US Presidential Election Pennsylvania ...</td>\n",
       "    </tr>\n",
       "    <tr>\n",
       "      <th>2</th>\n",
       "      <td>RT @spectatorindex: Who will win the US Presid...</td>\n",
       "      <td>Vinay Kumar</td>\n",
       "      <td>141904</td>\n",
       "      <td>602</td>\n",
       "      <td>India</td>\n",
       "      <td>False</td>\n",
       "      <td>0</td>\n",
       "      <td>1562</td>\n",
       "      <td>2020-11-03 05:44:51</td>\n",
       "      <td>RT Who will win the US Presidential Election</td>\n",
       "    </tr>\n",
       "    <tr>\n",
       "      <th>3</th>\n",
       "      <td>RT @AFP: The Hale House at the Balsams resort ...</td>\n",
       "      <td>@Silent Cops Are Complicit Cops</td>\n",
       "      <td>9022</td>\n",
       "      <td>745</td>\n",
       "      <td>United States</td>\n",
       "      <td>False</td>\n",
       "      <td>0</td>\n",
       "      <td>84</td>\n",
       "      <td>2020-11-03 05:44:50</td>\n",
       "      <td>RT The Hale House at the Balsams resort in Dix...</td>\n",
       "    </tr>\n",
       "    <tr>\n",
       "      <th>4</th>\n",
       "      <td>RT @gathara: #BREAKING Viral images captured b...</td>\n",
       "      <td>Sadhana Gupta</td>\n",
       "      <td>50594</td>\n",
       "      <td>245</td>\n",
       "      <td>the internets</td>\n",
       "      <td>False</td>\n",
       "      <td>0</td>\n",
       "      <td>548</td>\n",
       "      <td>2020-11-03 05:44:40</td>\n",
       "      <td>RT BREAKING Viral images captured by African j...</td>\n",
       "    </tr>\n",
       "  </tbody>\n",
       "</table>\n",
       "</div>"
      ],
      "text/plain": [
       "                                              Tweets  \\\n",
       "0  RT @AFP: The Hale House at the Balsams resort ...   \n",
       "1  RT @spectatorindex: POLL: US Presidential Elec...   \n",
       "2  RT @spectatorindex: Who will win the US Presid...   \n",
       "3  RT @AFP: The Hale House at the Balsams resort ...   \n",
       "4  RT @gathara: #BREAKING Viral images captured b...   \n",
       "\n",
       "                              User User_statuses_count user_followers  \\\n",
       "0               Bear, Sam, Jasmine               14691            381   \n",
       "1                     Imtiyaz Khan               15665             30   \n",
       "2                      Vinay Kumar              141904            602   \n",
       "3  @Silent Cops Are Complicit Cops                9022            745   \n",
       "4                    Sadhana Gupta               50594            245   \n",
       "\n",
       "            User_location User_verified fav_count rt_count  \\\n",
       "0  BigYard, Swimming Hole         False         0       84   \n",
       "1           Mumbai, India         False         0      488   \n",
       "2                   India         False         0     1562   \n",
       "3           United States         False         0       84   \n",
       "4           the internets         False         0      548   \n",
       "\n",
       "            tweet_date                                        clean_tweet  \n",
       "0  2020-11-03 05:44:53  RT The Hale House at the Balsams resort in Dix...  \n",
       "1  2020-11-03 05:44:52  RT POLL US Presidential Election Pennsylvania ...  \n",
       "2  2020-11-03 05:44:51       RT Who will win the US Presidential Election  \n",
       "3  2020-11-03 05:44:50  RT The Hale House at the Balsams resort in Dix...  \n",
       "4  2020-11-03 05:44:40  RT BREAKING Viral images captured by African j...  "
      ]
     },
     "execution_count": 25,
     "metadata": {},
     "output_type": "execute_result"
    }
   ],
   "source": [
    "df.head()"
   ]
  },
  {
   "cell_type": "code",
   "execution_count": 26,
   "metadata": {},
   "outputs": [
    {
     "data": {
      "text/html": [
       "<div>\n",
       "<style scoped>\n",
       "    .dataframe tbody tr th:only-of-type {\n",
       "        vertical-align: middle;\n",
       "    }\n",
       "\n",
       "    .dataframe tbody tr th {\n",
       "        vertical-align: top;\n",
       "    }\n",
       "\n",
       "    .dataframe thead th {\n",
       "        text-align: right;\n",
       "    }\n",
       "</style>\n",
       "<table border=\"1\" class=\"dataframe\">\n",
       "  <thead>\n",
       "    <tr style=\"text-align: right;\">\n",
       "      <th></th>\n",
       "      <th>Tweets</th>\n",
       "      <th>User</th>\n",
       "      <th>User_statuses_count</th>\n",
       "      <th>user_followers</th>\n",
       "      <th>User_location</th>\n",
       "      <th>User_verified</th>\n",
       "      <th>fav_count</th>\n",
       "      <th>rt_count</th>\n",
       "      <th>tweet_date</th>\n",
       "      <th>clean_tweet</th>\n",
       "      <th>Sentiment</th>\n",
       "    </tr>\n",
       "  </thead>\n",
       "  <tbody>\n",
       "    <tr>\n",
       "      <th>0</th>\n",
       "      <td>RT @AFP: The Hale House at the Balsams resort ...</td>\n",
       "      <td>Bear, Sam, Jasmine</td>\n",
       "      <td>14691</td>\n",
       "      <td>381</td>\n",
       "      <td>BigYard, Swimming Hole</td>\n",
       "      <td>False</td>\n",
       "      <td>0</td>\n",
       "      <td>84</td>\n",
       "      <td>2020-11-03 05:44:53</td>\n",
       "      <td>RT The Hale House at the Balsams resort in Dix...</td>\n",
       "      <td>Positive</td>\n",
       "    </tr>\n",
       "    <tr>\n",
       "      <th>1</th>\n",
       "      <td>RT @spectatorindex: POLL: US Presidential Elec...</td>\n",
       "      <td>Imtiyaz Khan</td>\n",
       "      <td>15665</td>\n",
       "      <td>30</td>\n",
       "      <td>Mumbai, India</td>\n",
       "      <td>False</td>\n",
       "      <td>0</td>\n",
       "      <td>488</td>\n",
       "      <td>2020-11-03 05:44:52</td>\n",
       "      <td>RT POLL US Presidential Election Pennsylvania ...</td>\n",
       "      <td>Neutral</td>\n",
       "    </tr>\n",
       "    <tr>\n",
       "      <th>2</th>\n",
       "      <td>RT @spectatorindex: Who will win the US Presid...</td>\n",
       "      <td>Vinay Kumar</td>\n",
       "      <td>141904</td>\n",
       "      <td>602</td>\n",
       "      <td>India</td>\n",
       "      <td>False</td>\n",
       "      <td>0</td>\n",
       "      <td>1562</td>\n",
       "      <td>2020-11-03 05:44:51</td>\n",
       "      <td>RT Who will win the US Presidential Election</td>\n",
       "      <td>Positive</td>\n",
       "    </tr>\n",
       "    <tr>\n",
       "      <th>3</th>\n",
       "      <td>RT @AFP: The Hale House at the Balsams resort ...</td>\n",
       "      <td>@Silent Cops Are Complicit Cops</td>\n",
       "      <td>9022</td>\n",
       "      <td>745</td>\n",
       "      <td>United States</td>\n",
       "      <td>False</td>\n",
       "      <td>0</td>\n",
       "      <td>84</td>\n",
       "      <td>2020-11-03 05:44:50</td>\n",
       "      <td>RT The Hale House at the Balsams resort in Dix...</td>\n",
       "      <td>Positive</td>\n",
       "    </tr>\n",
       "    <tr>\n",
       "      <th>4</th>\n",
       "      <td>RT @gathara: #BREAKING Viral images captured b...</td>\n",
       "      <td>Sadhana Gupta</td>\n",
       "      <td>50594</td>\n",
       "      <td>245</td>\n",
       "      <td>the internets</td>\n",
       "      <td>False</td>\n",
       "      <td>0</td>\n",
       "      <td>548</td>\n",
       "      <td>2020-11-03 05:44:40</td>\n",
       "      <td>RT BREAKING Viral images captured by African j...</td>\n",
       "      <td>Negative</td>\n",
       "    </tr>\n",
       "  </tbody>\n",
       "</table>\n",
       "</div>"
      ],
      "text/plain": [
       "                                              Tweets  \\\n",
       "0  RT @AFP: The Hale House at the Balsams resort ...   \n",
       "1  RT @spectatorindex: POLL: US Presidential Elec...   \n",
       "2  RT @spectatorindex: Who will win the US Presid...   \n",
       "3  RT @AFP: The Hale House at the Balsams resort ...   \n",
       "4  RT @gathara: #BREAKING Viral images captured b...   \n",
       "\n",
       "                              User User_statuses_count user_followers  \\\n",
       "0               Bear, Sam, Jasmine               14691            381   \n",
       "1                     Imtiyaz Khan               15665             30   \n",
       "2                      Vinay Kumar              141904            602   \n",
       "3  @Silent Cops Are Complicit Cops                9022            745   \n",
       "4                    Sadhana Gupta               50594            245   \n",
       "\n",
       "            User_location User_verified fav_count rt_count  \\\n",
       "0  BigYard, Swimming Hole         False         0       84   \n",
       "1           Mumbai, India         False         0      488   \n",
       "2                   India         False         0     1562   \n",
       "3           United States         False         0       84   \n",
       "4           the internets         False         0      548   \n",
       "\n",
       "            tweet_date                                        clean_tweet  \\\n",
       "0  2020-11-03 05:44:53  RT The Hale House at the Balsams resort in Dix...   \n",
       "1  2020-11-03 05:44:52  RT POLL US Presidential Election Pennsylvania ...   \n",
       "2  2020-11-03 05:44:51       RT Who will win the US Presidential Election   \n",
       "3  2020-11-03 05:44:50  RT The Hale House at the Balsams resort in Dix...   \n",
       "4  2020-11-03 05:44:40  RT BREAKING Viral images captured by African j...   \n",
       "\n",
       "  Sentiment  \n",
       "0  Positive  \n",
       "1   Neutral  \n",
       "2  Positive  \n",
       "3  Positive  \n",
       "4  Negative  "
      ]
     },
     "execution_count": 26,
     "metadata": {},
     "output_type": "execute_result"
    }
   ],
   "source": [
    "df['Sentiment'] = df['clean_tweet'].apply(lambda x : analyze_sentiment(x) )\n",
    "df.head()"
   ]
  },
  {
   "cell_type": "code",
   "execution_count": 27,
   "metadata": {},
   "outputs": [
    {
     "name": "stdout",
     "output_type": "stream",
     "text": [
      "Original tweet:\n",
      " RT @spectatorindex: POLL: US Presidential Election, Pennsylvania.\n",
      "\n",
      "Trump: 48%\n",
      "Biden: 46%\n",
      "\n",
      "(Trafalgar Group)\n",
      "\n",
      "Clean tweet:\n",
      " RT POLL US Presidential Election Pennsylvania Trump 48 Biden 46 Trafalgar Group\n",
      "\n",
      "Sentiment of the tweet:\n",
      " Neutral\n"
     ]
    }
   ],
   "source": [
    "n = 1\n",
    "print(\"Original tweet:\\n\",df['Tweets'][n])\n",
    "print()\n",
    "print(\"Clean tweet:\\n\",df['clean_tweet'][n])\n",
    "print()\n",
    "print(\"Sentiment of the tweet:\\n\",df['Sentiment'][n])"
   ]
  },
  {
   "cell_type": "code",
   "execution_count": 28,
   "metadata": {},
   "outputs": [
    {
     "name": "stdout",
     "output_type": "stream",
     "text": [
      "Original tweet:\n",
      " RT @wilkesbeacon: Beacon Followers: We’re running a poll for this week’s issue. Let us know who you think will win the presidential electio…\n",
      "\n",
      "Clean tweet:\n",
      " RT Beacon Followers We re running a poll for this week s issue Let us know who you think will win the presidential electio\n",
      "\n",
      "Sentiment of the tweet:\n",
      " Positive\n"
     ]
    }
   ],
   "source": [
    "n = 20\n",
    "print(\"Original tweet:\\n\",df['Tweets'][n])\n",
    "print()\n",
    "print(\"Clean tweet:\\n\",df['clean_tweet'][n])\n",
    "print()\n",
    "print(\"Sentiment of the tweet:\\n\",df['Sentiment'][n])"
   ]
  },
  {
   "cell_type": "code",
   "execution_count": 29,
   "metadata": {},
   "outputs": [
    {
     "data": {
      "text/plain": [
       "543"
      ]
     },
     "execution_count": 29,
     "metadata": {},
     "output_type": "execute_result"
    }
   ],
   "source": [
    "df[df.Sentiment == 'Positive'].shape[0]"
   ]
  },
  {
   "cell_type": "code",
   "execution_count": 30,
   "metadata": {},
   "outputs": [
    {
     "data": {
      "text/plain": [
       "344"
      ]
     },
     "execution_count": 30,
     "metadata": {},
     "output_type": "execute_result"
    }
   ],
   "source": [
    "df[df.Sentiment == 'Neutral'].shape[0]"
   ]
  },
  {
   "cell_type": "code",
   "execution_count": 31,
   "metadata": {},
   "outputs": [
    {
     "data": {
      "text/plain": [
       "113"
      ]
     },
     "execution_count": 31,
     "metadata": {},
     "output_type": "execute_result"
    }
   ],
   "source": [
    "df[df.Sentiment == 'Negative'].shape[0]"
   ]
  },
  {
   "cell_type": "code",
   "execution_count": null,
   "metadata": {},
   "outputs": [],
   "source": []
  }
 ],
 "metadata": {
  "kernelspec": {
   "display_name": "Python 3",
   "language": "python",
   "name": "python3"
  },
  "language_info": {
   "codemirror_mode": {
    "name": "ipython",
    "version": 3
   },
   "file_extension": ".py",
   "mimetype": "text/x-python",
   "name": "python",
   "nbconvert_exporter": "python",
   "pygments_lexer": "ipython3",
   "version": "3.7.6"
  }
 },
 "nbformat": 4,
 "nbformat_minor": 4
}
